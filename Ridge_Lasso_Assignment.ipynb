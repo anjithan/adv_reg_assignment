{
 "cells": [
  {
   "cell_type": "markdown",
   "id": "f6029d97-72ae-4f63-bd19-4f6c4809535d",
   "metadata": {},
   "source": [
    "### Advanced Regression Assignment\n",
    "### Jithan - 13/Apr/2022\n",
    "### Ridge and Lasso Regression "
   ]
  },
  {
   "cell_type": "code",
   "execution_count": 1,
   "id": "ff33ac53-edba-4435-ba8e-a568d8cd481d",
   "metadata": {},
   "outputs": [],
   "source": [
    "import pandas as pd\n",
    "import numpy as np\n",
    "import matplotlib as mp\n",
    "import matplotlib.pyplot as plt\n",
    "import seaborn as sns"
   ]
  },
  {
   "cell_type": "markdown",
   "id": "7d9a2e21-ba86-4489-ab9c-0e1b96d2eec3",
   "metadata": {},
   "source": [
    "### Import Required libs and data\n",
    "### Explore the data"
   ]
  },
  {
   "cell_type": "code",
   "execution_count": 2,
   "id": "9d309698-33f0-4ed4-8921-9d50af6f5719",
   "metadata": {},
   "outputs": [],
   "source": [
    "df = pd.read_csv(\"C:\\\\Users\\\\JITHAN\\\\Downloads\\\\train.csv\")"
   ]
  },
  {
   "cell_type": "code",
   "execution_count": 3,
   "id": "f56eef61-a694-4a64-a1ee-73a5c6e0fa66",
   "metadata": {},
   "outputs": [
    {
     "data": {
      "text/plain": [
       "(1460, 81)"
      ]
     },
     "execution_count": 3,
     "metadata": {},
     "output_type": "execute_result"
    }
   ],
   "source": [
    "df.shape"
   ]
  },
  {
   "cell_type": "code",
   "execution_count": 4,
   "id": "2d87d935-f174-43cd-893a-5b7de1fd6ec1",
   "metadata": {},
   "outputs": [
    {
     "data": {
      "text/html": [
       "<div>\n",
       "<style scoped>\n",
       "    .dataframe tbody tr th:only-of-type {\n",
       "        vertical-align: middle;\n",
       "    }\n",
       "\n",
       "    .dataframe tbody tr th {\n",
       "        vertical-align: top;\n",
       "    }\n",
       "\n",
       "    .dataframe thead th {\n",
       "        text-align: right;\n",
       "    }\n",
       "</style>\n",
       "<table border=\"1\" class=\"dataframe\">\n",
       "  <thead>\n",
       "    <tr style=\"text-align: right;\">\n",
       "      <th></th>\n",
       "      <th>Id</th>\n",
       "      <th>MSSubClass</th>\n",
       "      <th>MSZoning</th>\n",
       "      <th>LotFrontage</th>\n",
       "      <th>LotArea</th>\n",
       "      <th>Street</th>\n",
       "      <th>Alley</th>\n",
       "      <th>LotShape</th>\n",
       "      <th>LandContour</th>\n",
       "      <th>Utilities</th>\n",
       "      <th>...</th>\n",
       "      <th>PoolArea</th>\n",
       "      <th>PoolQC</th>\n",
       "      <th>Fence</th>\n",
       "      <th>MiscFeature</th>\n",
       "      <th>MiscVal</th>\n",
       "      <th>MoSold</th>\n",
       "      <th>YrSold</th>\n",
       "      <th>SaleType</th>\n",
       "      <th>SaleCondition</th>\n",
       "      <th>SalePrice</th>\n",
       "    </tr>\n",
       "  </thead>\n",
       "  <tbody>\n",
       "    <tr>\n",
       "      <th>0</th>\n",
       "      <td>1</td>\n",
       "      <td>60</td>\n",
       "      <td>RL</td>\n",
       "      <td>65.0</td>\n",
       "      <td>8450</td>\n",
       "      <td>Pave</td>\n",
       "      <td>NaN</td>\n",
       "      <td>Reg</td>\n",
       "      <td>Lvl</td>\n",
       "      <td>AllPub</td>\n",
       "      <td>...</td>\n",
       "      <td>0</td>\n",
       "      <td>NaN</td>\n",
       "      <td>NaN</td>\n",
       "      <td>NaN</td>\n",
       "      <td>0</td>\n",
       "      <td>2</td>\n",
       "      <td>2008</td>\n",
       "      <td>WD</td>\n",
       "      <td>Normal</td>\n",
       "      <td>208500</td>\n",
       "    </tr>\n",
       "    <tr>\n",
       "      <th>1</th>\n",
       "      <td>2</td>\n",
       "      <td>20</td>\n",
       "      <td>RL</td>\n",
       "      <td>80.0</td>\n",
       "      <td>9600</td>\n",
       "      <td>Pave</td>\n",
       "      <td>NaN</td>\n",
       "      <td>Reg</td>\n",
       "      <td>Lvl</td>\n",
       "      <td>AllPub</td>\n",
       "      <td>...</td>\n",
       "      <td>0</td>\n",
       "      <td>NaN</td>\n",
       "      <td>NaN</td>\n",
       "      <td>NaN</td>\n",
       "      <td>0</td>\n",
       "      <td>5</td>\n",
       "      <td>2007</td>\n",
       "      <td>WD</td>\n",
       "      <td>Normal</td>\n",
       "      <td>181500</td>\n",
       "    </tr>\n",
       "    <tr>\n",
       "      <th>2</th>\n",
       "      <td>3</td>\n",
       "      <td>60</td>\n",
       "      <td>RL</td>\n",
       "      <td>68.0</td>\n",
       "      <td>11250</td>\n",
       "      <td>Pave</td>\n",
       "      <td>NaN</td>\n",
       "      <td>IR1</td>\n",
       "      <td>Lvl</td>\n",
       "      <td>AllPub</td>\n",
       "      <td>...</td>\n",
       "      <td>0</td>\n",
       "      <td>NaN</td>\n",
       "      <td>NaN</td>\n",
       "      <td>NaN</td>\n",
       "      <td>0</td>\n",
       "      <td>9</td>\n",
       "      <td>2008</td>\n",
       "      <td>WD</td>\n",
       "      <td>Normal</td>\n",
       "      <td>223500</td>\n",
       "    </tr>\n",
       "    <tr>\n",
       "      <th>3</th>\n",
       "      <td>4</td>\n",
       "      <td>70</td>\n",
       "      <td>RL</td>\n",
       "      <td>60.0</td>\n",
       "      <td>9550</td>\n",
       "      <td>Pave</td>\n",
       "      <td>NaN</td>\n",
       "      <td>IR1</td>\n",
       "      <td>Lvl</td>\n",
       "      <td>AllPub</td>\n",
       "      <td>...</td>\n",
       "      <td>0</td>\n",
       "      <td>NaN</td>\n",
       "      <td>NaN</td>\n",
       "      <td>NaN</td>\n",
       "      <td>0</td>\n",
       "      <td>2</td>\n",
       "      <td>2006</td>\n",
       "      <td>WD</td>\n",
       "      <td>Abnorml</td>\n",
       "      <td>140000</td>\n",
       "    </tr>\n",
       "    <tr>\n",
       "      <th>4</th>\n",
       "      <td>5</td>\n",
       "      <td>60</td>\n",
       "      <td>RL</td>\n",
       "      <td>84.0</td>\n",
       "      <td>14260</td>\n",
       "      <td>Pave</td>\n",
       "      <td>NaN</td>\n",
       "      <td>IR1</td>\n",
       "      <td>Lvl</td>\n",
       "      <td>AllPub</td>\n",
       "      <td>...</td>\n",
       "      <td>0</td>\n",
       "      <td>NaN</td>\n",
       "      <td>NaN</td>\n",
       "      <td>NaN</td>\n",
       "      <td>0</td>\n",
       "      <td>12</td>\n",
       "      <td>2008</td>\n",
       "      <td>WD</td>\n",
       "      <td>Normal</td>\n",
       "      <td>250000</td>\n",
       "    </tr>\n",
       "  </tbody>\n",
       "</table>\n",
       "<p>5 rows × 81 columns</p>\n",
       "</div>"
      ],
      "text/plain": [
       "   Id  MSSubClass MSZoning  LotFrontage  LotArea Street Alley LotShape  \\\n",
       "0   1          60       RL         65.0     8450   Pave   NaN      Reg   \n",
       "1   2          20       RL         80.0     9600   Pave   NaN      Reg   \n",
       "2   3          60       RL         68.0    11250   Pave   NaN      IR1   \n",
       "3   4          70       RL         60.0     9550   Pave   NaN      IR1   \n",
       "4   5          60       RL         84.0    14260   Pave   NaN      IR1   \n",
       "\n",
       "  LandContour Utilities  ... PoolArea PoolQC Fence MiscFeature MiscVal MoSold  \\\n",
       "0         Lvl    AllPub  ...        0    NaN   NaN         NaN       0      2   \n",
       "1         Lvl    AllPub  ...        0    NaN   NaN         NaN       0      5   \n",
       "2         Lvl    AllPub  ...        0    NaN   NaN         NaN       0      9   \n",
       "3         Lvl    AllPub  ...        0    NaN   NaN         NaN       0      2   \n",
       "4         Lvl    AllPub  ...        0    NaN   NaN         NaN       0     12   \n",
       "\n",
       "  YrSold  SaleType  SaleCondition  SalePrice  \n",
       "0   2008        WD         Normal     208500  \n",
       "1   2007        WD         Normal     181500  \n",
       "2   2008        WD         Normal     223500  \n",
       "3   2006        WD        Abnorml     140000  \n",
       "4   2008        WD         Normal     250000  \n",
       "\n",
       "[5 rows x 81 columns]"
      ]
     },
     "execution_count": 4,
     "metadata": {},
     "output_type": "execute_result"
    }
   ],
   "source": [
    "df.head()"
   ]
  },
  {
   "cell_type": "code",
   "execution_count": 5,
   "id": "39de658d-beb0-4470-9e6f-e9bc69e94e84",
   "metadata": {},
   "outputs": [
    {
     "data": {
      "text/html": [
       "<div>\n",
       "<style scoped>\n",
       "    .dataframe tbody tr th:only-of-type {\n",
       "        vertical-align: middle;\n",
       "    }\n",
       "\n",
       "    .dataframe tbody tr th {\n",
       "        vertical-align: top;\n",
       "    }\n",
       "\n",
       "    .dataframe thead th {\n",
       "        text-align: right;\n",
       "    }\n",
       "</style>\n",
       "<table border=\"1\" class=\"dataframe\">\n",
       "  <thead>\n",
       "    <tr style=\"text-align: right;\">\n",
       "      <th></th>\n",
       "      <th>Id</th>\n",
       "      <th>MSSubClass</th>\n",
       "      <th>LotFrontage</th>\n",
       "      <th>LotArea</th>\n",
       "      <th>OverallQual</th>\n",
       "      <th>OverallCond</th>\n",
       "      <th>YearBuilt</th>\n",
       "      <th>YearRemodAdd</th>\n",
       "      <th>MasVnrArea</th>\n",
       "      <th>BsmtFinSF1</th>\n",
       "      <th>...</th>\n",
       "      <th>WoodDeckSF</th>\n",
       "      <th>OpenPorchSF</th>\n",
       "      <th>EnclosedPorch</th>\n",
       "      <th>3SsnPorch</th>\n",
       "      <th>ScreenPorch</th>\n",
       "      <th>PoolArea</th>\n",
       "      <th>MiscVal</th>\n",
       "      <th>MoSold</th>\n",
       "      <th>YrSold</th>\n",
       "      <th>SalePrice</th>\n",
       "    </tr>\n",
       "  </thead>\n",
       "  <tbody>\n",
       "    <tr>\n",
       "      <th>count</th>\n",
       "      <td>1460.000000</td>\n",
       "      <td>1460.000000</td>\n",
       "      <td>1201.000000</td>\n",
       "      <td>1460.000000</td>\n",
       "      <td>1460.000000</td>\n",
       "      <td>1460.000000</td>\n",
       "      <td>1460.000000</td>\n",
       "      <td>1460.000000</td>\n",
       "      <td>1452.000000</td>\n",
       "      <td>1460.000000</td>\n",
       "      <td>...</td>\n",
       "      <td>1460.000000</td>\n",
       "      <td>1460.000000</td>\n",
       "      <td>1460.000000</td>\n",
       "      <td>1460.000000</td>\n",
       "      <td>1460.000000</td>\n",
       "      <td>1460.000000</td>\n",
       "      <td>1460.000000</td>\n",
       "      <td>1460.000000</td>\n",
       "      <td>1460.000000</td>\n",
       "      <td>1460.000000</td>\n",
       "    </tr>\n",
       "    <tr>\n",
       "      <th>mean</th>\n",
       "      <td>730.500000</td>\n",
       "      <td>56.897260</td>\n",
       "      <td>70.049958</td>\n",
       "      <td>10516.828082</td>\n",
       "      <td>6.099315</td>\n",
       "      <td>5.575342</td>\n",
       "      <td>1971.267808</td>\n",
       "      <td>1984.865753</td>\n",
       "      <td>103.685262</td>\n",
       "      <td>443.639726</td>\n",
       "      <td>...</td>\n",
       "      <td>94.244521</td>\n",
       "      <td>46.660274</td>\n",
       "      <td>21.954110</td>\n",
       "      <td>3.409589</td>\n",
       "      <td>15.060959</td>\n",
       "      <td>2.758904</td>\n",
       "      <td>43.489041</td>\n",
       "      <td>6.321918</td>\n",
       "      <td>2007.815753</td>\n",
       "      <td>180921.195890</td>\n",
       "    </tr>\n",
       "    <tr>\n",
       "      <th>std</th>\n",
       "      <td>421.610009</td>\n",
       "      <td>42.300571</td>\n",
       "      <td>24.284752</td>\n",
       "      <td>9981.264932</td>\n",
       "      <td>1.382997</td>\n",
       "      <td>1.112799</td>\n",
       "      <td>30.202904</td>\n",
       "      <td>20.645407</td>\n",
       "      <td>181.066207</td>\n",
       "      <td>456.098091</td>\n",
       "      <td>...</td>\n",
       "      <td>125.338794</td>\n",
       "      <td>66.256028</td>\n",
       "      <td>61.119149</td>\n",
       "      <td>29.317331</td>\n",
       "      <td>55.757415</td>\n",
       "      <td>40.177307</td>\n",
       "      <td>496.123024</td>\n",
       "      <td>2.703626</td>\n",
       "      <td>1.328095</td>\n",
       "      <td>79442.502883</td>\n",
       "    </tr>\n",
       "    <tr>\n",
       "      <th>min</th>\n",
       "      <td>1.000000</td>\n",
       "      <td>20.000000</td>\n",
       "      <td>21.000000</td>\n",
       "      <td>1300.000000</td>\n",
       "      <td>1.000000</td>\n",
       "      <td>1.000000</td>\n",
       "      <td>1872.000000</td>\n",
       "      <td>1950.000000</td>\n",
       "      <td>0.000000</td>\n",
       "      <td>0.000000</td>\n",
       "      <td>...</td>\n",
       "      <td>0.000000</td>\n",
       "      <td>0.000000</td>\n",
       "      <td>0.000000</td>\n",
       "      <td>0.000000</td>\n",
       "      <td>0.000000</td>\n",
       "      <td>0.000000</td>\n",
       "      <td>0.000000</td>\n",
       "      <td>1.000000</td>\n",
       "      <td>2006.000000</td>\n",
       "      <td>34900.000000</td>\n",
       "    </tr>\n",
       "    <tr>\n",
       "      <th>25%</th>\n",
       "      <td>365.750000</td>\n",
       "      <td>20.000000</td>\n",
       "      <td>59.000000</td>\n",
       "      <td>7553.500000</td>\n",
       "      <td>5.000000</td>\n",
       "      <td>5.000000</td>\n",
       "      <td>1954.000000</td>\n",
       "      <td>1967.000000</td>\n",
       "      <td>0.000000</td>\n",
       "      <td>0.000000</td>\n",
       "      <td>...</td>\n",
       "      <td>0.000000</td>\n",
       "      <td>0.000000</td>\n",
       "      <td>0.000000</td>\n",
       "      <td>0.000000</td>\n",
       "      <td>0.000000</td>\n",
       "      <td>0.000000</td>\n",
       "      <td>0.000000</td>\n",
       "      <td>5.000000</td>\n",
       "      <td>2007.000000</td>\n",
       "      <td>129975.000000</td>\n",
       "    </tr>\n",
       "    <tr>\n",
       "      <th>50%</th>\n",
       "      <td>730.500000</td>\n",
       "      <td>50.000000</td>\n",
       "      <td>69.000000</td>\n",
       "      <td>9478.500000</td>\n",
       "      <td>6.000000</td>\n",
       "      <td>5.000000</td>\n",
       "      <td>1973.000000</td>\n",
       "      <td>1994.000000</td>\n",
       "      <td>0.000000</td>\n",
       "      <td>383.500000</td>\n",
       "      <td>...</td>\n",
       "      <td>0.000000</td>\n",
       "      <td>25.000000</td>\n",
       "      <td>0.000000</td>\n",
       "      <td>0.000000</td>\n",
       "      <td>0.000000</td>\n",
       "      <td>0.000000</td>\n",
       "      <td>0.000000</td>\n",
       "      <td>6.000000</td>\n",
       "      <td>2008.000000</td>\n",
       "      <td>163000.000000</td>\n",
       "    </tr>\n",
       "    <tr>\n",
       "      <th>75%</th>\n",
       "      <td>1095.250000</td>\n",
       "      <td>70.000000</td>\n",
       "      <td>80.000000</td>\n",
       "      <td>11601.500000</td>\n",
       "      <td>7.000000</td>\n",
       "      <td>6.000000</td>\n",
       "      <td>2000.000000</td>\n",
       "      <td>2004.000000</td>\n",
       "      <td>166.000000</td>\n",
       "      <td>712.250000</td>\n",
       "      <td>...</td>\n",
       "      <td>168.000000</td>\n",
       "      <td>68.000000</td>\n",
       "      <td>0.000000</td>\n",
       "      <td>0.000000</td>\n",
       "      <td>0.000000</td>\n",
       "      <td>0.000000</td>\n",
       "      <td>0.000000</td>\n",
       "      <td>8.000000</td>\n",
       "      <td>2009.000000</td>\n",
       "      <td>214000.000000</td>\n",
       "    </tr>\n",
       "    <tr>\n",
       "      <th>max</th>\n",
       "      <td>1460.000000</td>\n",
       "      <td>190.000000</td>\n",
       "      <td>313.000000</td>\n",
       "      <td>215245.000000</td>\n",
       "      <td>10.000000</td>\n",
       "      <td>9.000000</td>\n",
       "      <td>2010.000000</td>\n",
       "      <td>2010.000000</td>\n",
       "      <td>1600.000000</td>\n",
       "      <td>5644.000000</td>\n",
       "      <td>...</td>\n",
       "      <td>857.000000</td>\n",
       "      <td>547.000000</td>\n",
       "      <td>552.000000</td>\n",
       "      <td>508.000000</td>\n",
       "      <td>480.000000</td>\n",
       "      <td>738.000000</td>\n",
       "      <td>15500.000000</td>\n",
       "      <td>12.000000</td>\n",
       "      <td>2010.000000</td>\n",
       "      <td>755000.000000</td>\n",
       "    </tr>\n",
       "  </tbody>\n",
       "</table>\n",
       "<p>8 rows × 38 columns</p>\n",
       "</div>"
      ],
      "text/plain": [
       "                Id   MSSubClass  LotFrontage        LotArea  OverallQual  \\\n",
       "count  1460.000000  1460.000000  1201.000000    1460.000000  1460.000000   \n",
       "mean    730.500000    56.897260    70.049958   10516.828082     6.099315   \n",
       "std     421.610009    42.300571    24.284752    9981.264932     1.382997   \n",
       "min       1.000000    20.000000    21.000000    1300.000000     1.000000   \n",
       "25%     365.750000    20.000000    59.000000    7553.500000     5.000000   \n",
       "50%     730.500000    50.000000    69.000000    9478.500000     6.000000   \n",
       "75%    1095.250000    70.000000    80.000000   11601.500000     7.000000   \n",
       "max    1460.000000   190.000000   313.000000  215245.000000    10.000000   \n",
       "\n",
       "       OverallCond    YearBuilt  YearRemodAdd   MasVnrArea   BsmtFinSF1  ...  \\\n",
       "count  1460.000000  1460.000000   1460.000000  1452.000000  1460.000000  ...   \n",
       "mean      5.575342  1971.267808   1984.865753   103.685262   443.639726  ...   \n",
       "std       1.112799    30.202904     20.645407   181.066207   456.098091  ...   \n",
       "min       1.000000  1872.000000   1950.000000     0.000000     0.000000  ...   \n",
       "25%       5.000000  1954.000000   1967.000000     0.000000     0.000000  ...   \n",
       "50%       5.000000  1973.000000   1994.000000     0.000000   383.500000  ...   \n",
       "75%       6.000000  2000.000000   2004.000000   166.000000   712.250000  ...   \n",
       "max       9.000000  2010.000000   2010.000000  1600.000000  5644.000000  ...   \n",
       "\n",
       "        WoodDeckSF  OpenPorchSF  EnclosedPorch    3SsnPorch  ScreenPorch  \\\n",
       "count  1460.000000  1460.000000    1460.000000  1460.000000  1460.000000   \n",
       "mean     94.244521    46.660274      21.954110     3.409589    15.060959   \n",
       "std     125.338794    66.256028      61.119149    29.317331    55.757415   \n",
       "min       0.000000     0.000000       0.000000     0.000000     0.000000   \n",
       "25%       0.000000     0.000000       0.000000     0.000000     0.000000   \n",
       "50%       0.000000    25.000000       0.000000     0.000000     0.000000   \n",
       "75%     168.000000    68.000000       0.000000     0.000000     0.000000   \n",
       "max     857.000000   547.000000     552.000000   508.000000   480.000000   \n",
       "\n",
       "          PoolArea       MiscVal       MoSold       YrSold      SalePrice  \n",
       "count  1460.000000   1460.000000  1460.000000  1460.000000    1460.000000  \n",
       "mean      2.758904     43.489041     6.321918  2007.815753  180921.195890  \n",
       "std      40.177307    496.123024     2.703626     1.328095   79442.502883  \n",
       "min       0.000000      0.000000     1.000000  2006.000000   34900.000000  \n",
       "25%       0.000000      0.000000     5.000000  2007.000000  129975.000000  \n",
       "50%       0.000000      0.000000     6.000000  2008.000000  163000.000000  \n",
       "75%       0.000000      0.000000     8.000000  2009.000000  214000.000000  \n",
       "max     738.000000  15500.000000    12.000000  2010.000000  755000.000000  \n",
       "\n",
       "[8 rows x 38 columns]"
      ]
     },
     "execution_count": 5,
     "metadata": {},
     "output_type": "execute_result"
    }
   ],
   "source": [
    "df.describe()"
   ]
  },
  {
   "cell_type": "code",
   "execution_count": 6,
   "id": "408cb550-3689-4f1b-99d9-783b7db9b69b",
   "metadata": {},
   "outputs": [],
   "source": [
    "pd.set_option('display.max_rows', 500)"
   ]
  },
  {
   "cell_type": "markdown",
   "id": "670e0f7f-facc-4631-9618-7a5d99fea802",
   "metadata": {},
   "source": [
    "### Finding the missing Null Values"
   ]
  },
  {
   "cell_type": "code",
   "execution_count": 7,
   "id": "d7306a39-b7a3-469e-a88d-64b10ab0ef3c",
   "metadata": {},
   "outputs": [
    {
     "data": {
      "text/plain": [
       "PoolQC          1453\n",
       "MiscFeature     1406\n",
       "Alley           1369\n",
       "Fence           1179\n",
       "FireplaceQu      690\n",
       "LotFrontage      259\n",
       "GarageYrBlt       81\n",
       "GarageCond        81\n",
       "GarageType        81\n",
       "GarageFinish      81\n",
       "GarageQual        81\n",
       "BsmtFinType2      38\n",
       "BsmtExposure      38\n",
       "BsmtQual          37\n",
       "BsmtCond          37\n",
       "BsmtFinType1      37\n",
       "MasVnrArea         8\n",
       "MasVnrType         8\n",
       "Electrical         1\n",
       "Id                 0\n",
       "dtype: int64"
      ]
     },
     "execution_count": 7,
     "metadata": {},
     "output_type": "execute_result"
    }
   ],
   "source": [
    "df.isnull().sum().sort_values(ascending=False).head(20)"
   ]
  },
  {
   "cell_type": "markdown",
   "id": "893cf559-901c-4fa1-8c0f-76a00adeb78a",
   "metadata": {},
   "source": [
    "#### Remove features which have greater than 50% null values"
   ]
  },
  {
   "cell_type": "code",
   "execution_count": 8,
   "id": "fc64eb30-5ab0-404a-80c2-d5d973a52681",
   "metadata": {},
   "outputs": [],
   "source": [
    "for item in [\"PoolQC\", \"Fence\", \"MiscFeature\", \"Alley\"]:\n",
    "    df = df.drop(item, axis=1)"
   ]
  },
  {
   "cell_type": "code",
   "execution_count": 9,
   "id": "70b75bb1-265a-4946-b3d7-6f219fe0c46a",
   "metadata": {},
   "outputs": [
    {
     "data": {
      "text/plain": [
       "Gd    380\n",
       "TA    313\n",
       "Fa     33\n",
       "Ex     24\n",
       "Po     20\n",
       "Name: FireplaceQu, dtype: int64"
      ]
     },
     "execution_count": 9,
     "metadata": {},
     "output_type": "execute_result"
    }
   ],
   "source": [
    "df.FireplaceQu.value_counts()"
   ]
  },
  {
   "cell_type": "markdown",
   "id": "cc3a9c21-39e5-497a-b48d-99f22f0b643b",
   "metadata": {},
   "source": [
    "#### Replace nulls with Np - Not present for few features\n",
    "#### We can use Np as another dummy variable in later parts"
   ]
  },
  {
   "cell_type": "code",
   "execution_count": 10,
   "id": "8baa9179-5a45-44ea-9502-f365a54ee94d",
   "metadata": {},
   "outputs": [],
   "source": [
    "df.FireplaceQu.fillna('Np', inplace=True)"
   ]
  },
  {
   "cell_type": "code",
   "execution_count": 11,
   "id": "597b13b3-aa6d-47d0-8ce8-696e27cf4c0a",
   "metadata": {},
   "outputs": [
    {
     "data": {
      "text/plain": [
       "LotFrontage     259\n",
       "GarageType       81\n",
       "GarageYrBlt      81\n",
       "GarageFinish     81\n",
       "GarageQual       81\n",
       "GarageCond       81\n",
       "BsmtFinType2     38\n",
       "BsmtExposure     38\n",
       "BsmtQual         37\n",
       "BsmtCond         37\n",
       "BsmtFinType1     37\n",
       "MasVnrType        8\n",
       "MasVnrArea        8\n",
       "Electrical        1\n",
       "KitchenAbvGr      0\n",
       "BedroomAbvGr      0\n",
       "HalfBath          0\n",
       "FullBath          0\n",
       "BsmtHalfBath      0\n",
       "BsmtFullBath      0\n",
       "dtype: int64"
      ]
     },
     "execution_count": 11,
     "metadata": {},
     "output_type": "execute_result"
    }
   ],
   "source": [
    "df.isnull().sum().sort_values(ascending=False).head(20)"
   ]
  },
  {
   "cell_type": "code",
   "execution_count": 12,
   "id": "1c61d411-10e0-4f4b-9f0a-3bc25726c2ef",
   "metadata": {},
   "outputs": [],
   "source": [
    "df.BsmtQual.fillna(\"Np\", inplace=True) ; df.BsmtCond.fillna(\"Np\", inplace=True) ; df.BsmtExposure.fillna(\"Np\", inplace=True) ; "
   ]
  },
  {
   "cell_type": "code",
   "execution_count": 13,
   "id": "0c5baf47-65da-45ea-bf63-f383931bf64e",
   "metadata": {},
   "outputs": [],
   "source": [
    "df.BsmtFinType1.fillna(\"Np\", inplace=True) ; df.BsmtFinType2.fillna(\"Np\", inplace=True)"
   ]
  },
  {
   "cell_type": "code",
   "execution_count": 14,
   "id": "d1f605c1-3461-42d5-b884-7fcf3959cdc4",
   "metadata": {},
   "outputs": [
    {
     "data": {
      "text/plain": [
       "LotFrontage     259\n",
       "GarageYrBlt      81\n",
       "GarageCond       81\n",
       "GarageType       81\n",
       "GarageFinish     81\n",
       "GarageQual       81\n",
       "MasVnrArea        8\n",
       "MasVnrType        8\n",
       "Electrical        1\n",
       "ScreenPorch       0\n",
       "dtype: int64"
      ]
     },
     "execution_count": 14,
     "metadata": {},
     "output_type": "execute_result"
    }
   ],
   "source": [
    "df.isnull().sum().sort_values(ascending=False).head(10)"
   ]
  },
  {
   "cell_type": "code",
   "execution_count": 15,
   "id": "16489715-e76e-46fd-8806-a15004f6651e",
   "metadata": {},
   "outputs": [],
   "source": [
    "df.GarageType.fillna(\"Np\", inplace=True) ; df.GarageFinish.fillna(\"Np\", inplace=True)"
   ]
  },
  {
   "cell_type": "code",
   "execution_count": 16,
   "id": "0b13aaab-caed-4306-a47c-cb4aedeaec9e",
   "metadata": {},
   "outputs": [],
   "source": [
    "df.GarageQual.fillna(\"Np\", inplace=True) ; df.GarageCond.fillna(\"Np\", inplace=True) "
   ]
  },
  {
   "cell_type": "code",
   "execution_count": 17,
   "id": "e0a457a7-8ca1-481c-b3db-4262fda3aefb",
   "metadata": {},
   "outputs": [
    {
     "data": {
      "text/plain": [
       "LotFrontage      259\n",
       "GarageYrBlt       81\n",
       "MasVnrType         8\n",
       "MasVnrArea         8\n",
       "Electrical         1\n",
       "YrSold             0\n",
       "HalfBath           0\n",
       "SaleCondition      0\n",
       "Functional         0\n",
       "TotRmsAbvGrd       0\n",
       "dtype: int64"
      ]
     },
     "execution_count": 17,
     "metadata": {},
     "output_type": "execute_result"
    }
   ],
   "source": [
    "df.isnull().sum().sort_values(ascending=False).head(10)"
   ]
  },
  {
   "cell_type": "markdown",
   "id": "f6e0ff96-1d89-478a-a92e-08ce75f72566",
   "metadata": {},
   "source": [
    "#### For Electrical we see one value being greater than 90%, hence we can drop this column"
   ]
  },
  {
   "cell_type": "code",
   "execution_count": 18,
   "id": "b5947639-ccb3-41c9-a6be-40d829de2b28",
   "metadata": {},
   "outputs": [
    {
     "data": {
      "text/plain": [
       "SBrkr    1334\n",
       "FuseA      94\n",
       "FuseF      27\n",
       "FuseP       3\n",
       "Mix         1\n",
       "Name: Electrical, dtype: int64"
      ]
     },
     "execution_count": 18,
     "metadata": {},
     "output_type": "execute_result"
    }
   ],
   "source": [
    "df.Electrical.value_counts()"
   ]
  },
  {
   "cell_type": "code",
   "execution_count": 19,
   "id": "3633f247-a88e-4093-bb77-712924f4daa0",
   "metadata": {},
   "outputs": [],
   "source": [
    "df = df.drop(\"Electrical\", axis=1)"
   ]
  },
  {
   "cell_type": "code",
   "execution_count": 20,
   "id": "cf4da7de-4a89-4367-84b4-34a3c7382fc8",
   "metadata": {},
   "outputs": [
    {
     "data": {
      "text/plain": [
       "None       864\n",
       "BrkFace    445\n",
       "Stone      128\n",
       "BrkCmn      15\n",
       "Name: MasVnrType, dtype: int64"
      ]
     },
     "execution_count": 20,
     "metadata": {},
     "output_type": "execute_result"
    }
   ],
   "source": [
    "df.MasVnrType.value_counts()"
   ]
  },
  {
   "cell_type": "markdown",
   "id": "7e86f657-8e52-4b43-b5ad-ecc0da345e3a",
   "metadata": {},
   "source": [
    "#### We will drop rows with null values for below features as there are few of them, 8 to be exact"
   ]
  },
  {
   "cell_type": "code",
   "execution_count": 21,
   "id": "d6a30bf7-3d27-4c60-9d3c-4be280662f72",
   "metadata": {},
   "outputs": [],
   "source": [
    "df2 = df[df.MasVnrType.notnull()]"
   ]
  },
  {
   "cell_type": "code",
   "execution_count": 22,
   "id": "55820d8a-35ce-4bee-afe3-00251d9ce8e7",
   "metadata": {},
   "outputs": [],
   "source": [
    "df2 = df[df.MasVnrArea.notnull()]"
   ]
  },
  {
   "cell_type": "code",
   "execution_count": 23,
   "id": "05925849-56f1-4809-bf4c-18898c88068d",
   "metadata": {},
   "outputs": [
    {
     "data": {
      "text/plain": [
       "LotFrontage     257\n",
       "GarageYrBlt      81\n",
       "Id                0\n",
       "BedroomAbvGr      0\n",
       "FireplaceQu       0\n",
       "dtype: int64"
      ]
     },
     "execution_count": 23,
     "metadata": {},
     "output_type": "execute_result"
    }
   ],
   "source": [
    "df2.isnull().sum().sort_values(ascending=False).head()"
   ]
  },
  {
   "cell_type": "code",
   "execution_count": 24,
   "id": "db23fdb5-e506-4070-9a43-f163c61f87e1",
   "metadata": {},
   "outputs": [
    {
     "data": {
      "text/plain": [
       "<AxesSubplot:xlabel='LotFrontage'>"
      ]
     },
     "execution_count": 24,
     "metadata": {},
     "output_type": "execute_result"
    },
    {
     "data": {
      "image/png": "[encoded data removed]",
      "text/plain": [
       "<Figure size 432x288 with 1 Axes>"
      ]
     },
     "metadata": {
      "needs_background": "light"
     },
     "output_type": "display_data"
    }
   ],
   "source": [
    "sns.boxplot(x=df2[\"LotFrontage\"])"
   ]
  },
  {
   "cell_type": "code",
   "execution_count": 25,
   "id": "73e13ede-23dc-4c6e-a16d-714b742a68d5",
   "metadata": {},
   "outputs": [
    {
     "data": {
      "text/plain": [
       "count    1195.000000\n",
       "mean       70.030126\n",
       "std        24.289276\n",
       "min        21.000000\n",
       "25%        59.000000\n",
       "50%        69.000000\n",
       "75%        80.000000\n",
       "max       313.000000\n",
       "Name: LotFrontage, dtype: float64"
      ]
     },
     "execution_count": 25,
     "metadata": {},
     "output_type": "execute_result"
    }
   ],
   "source": [
    "df2[\"LotFrontage\"].describe()"
   ]
  },
  {
   "cell_type": "code",
   "execution_count": 26,
   "id": "f6fc0f1d-7726-4cdf-b59a-655f1e34ac30",
   "metadata": {},
   "outputs": [
    {
     "data": {
      "text/plain": [
       "<AxesSubplot:xlabel='LotFrontage', ylabel='LotArea'>"
      ]
     },
     "execution_count": 26,
     "metadata": {},
     "output_type": "execute_result"
    },
    {
     "data": {
      "image/png": "[encoded data removed]",
      "text/plain": [
       "<Figure size 432x288 with 1 Axes>"
      ]
     },
     "metadata": {
      "needs_background": "light"
     },
     "output_type": "display_data"
    }
   ],
   "source": [
    "sns.scatterplot(x=\"LotFrontage\", y=\"LotArea\", data=df2)"
   ]
  },
  {
   "cell_type": "markdown",
   "id": "c7739bca-94ad-4c9d-a5c5-74516aa72822",
   "metadata": {},
   "source": [
    "#### For LotFrontAge, we can see very data clouded near some area\n",
    "#### Hence we can use median to replace the null values"
   ]
  },
  {
   "cell_type": "code",
   "execution_count": 27,
   "id": "fff0722f-097c-4e77-8b4b-e4c6248e7a44",
   "metadata": {},
   "outputs": [
    {
     "name": "stderr",
     "output_type": "stream",
     "text": [
      "C:\\Python\\lib\\site-packages\\pandas\\core\\generic.py:6392: SettingWithCopyWarning: \n",
      "A value is trying to be set on a copy of a slice from a DataFrame\n",
      "\n",
      "See the caveats in the documentation: https://pandas.pydata.org/pandas-docs/stable/user_guide/indexing.html#returning-a-view-versus-a-copy\n",
      "  return self._update_inplace(result)\n"
     ]
    }
   ],
   "source": [
    "df2.LotFrontage.fillna(df2.LotFrontage.median(), inplace=True)"
   ]
  },
  {
   "cell_type": "code",
   "execution_count": 28,
   "id": "0ed39268-53c9-48ab-8151-5dd1609caa8d",
   "metadata": {},
   "outputs": [
    {
     "data": {
      "text/plain": [
       "GarageYrBlt    81\n",
       "HalfBath        0\n",
       "FireplaceQu     0\n",
       "Fireplaces      0\n",
       "Functional      0\n",
       "dtype: int64"
      ]
     },
     "execution_count": 28,
     "metadata": {},
     "output_type": "execute_result"
    }
   ],
   "source": [
    "df2.isnull().sum().sort_values(ascending=False).head()"
   ]
  },
  {
   "cell_type": "code",
   "execution_count": 29,
   "id": "b896c907-25cb-44aa-b5a4-c0becc6c6575",
   "metadata": {},
   "outputs": [
    {
     "data": {
      "text/plain": [
       "2005.0    65\n",
       "2006.0    58\n",
       "2004.0    53\n",
       "2003.0    49\n",
       "2007.0    46\n",
       "1977.0    35\n",
       "1998.0    31\n",
       "1999.0    30\n",
       "1976.0    29\n",
       "2008.0    29\n",
       "2000.0    27\n",
       "1968.0    26\n",
       "1950.0    24\n",
       "2002.0    24\n",
       "1993.0    22\n",
       "1958.0    21\n",
       "1966.0    21\n",
       "2009.0    21\n",
       "1962.0    21\n",
       "1965.0    21\n",
       "1970.0    20\n",
       "1957.0    20\n",
       "2001.0    20\n",
       "1996.0    20\n",
       "1997.0    19\n",
       "1978.0    19\n",
       "1960.0    19\n",
       "1954.0    19\n",
       "1964.0    18\n",
       "1995.0    18\n",
       "1994.0    18\n",
       "1974.0    18\n",
       "1959.0    17\n",
       "1956.0    16\n",
       "1990.0    16\n",
       "1963.0    16\n",
       "1967.0    15\n",
       "1979.0    15\n",
       "1980.0    15\n",
       "1969.0    15\n",
       "1940.0    14\n",
       "1973.0    14\n",
       "1972.0    14\n",
       "1988.0    14\n",
       "1920.0    14\n",
       "1955.0    13\n",
       "1961.0    13\n",
       "1971.0    13\n",
       "1992.0    13\n",
       "1953.0    12\n",
       "1987.0    11\n",
       "1948.0    11\n",
       "1989.0    10\n",
       "1925.0    10\n",
       "1981.0    10\n",
       "1985.0    10\n",
       "1941.0    10\n",
       "1939.0     9\n",
       "1991.0     9\n",
       "1949.0     8\n",
       "1975.0     8\n",
       "1930.0     8\n",
       "1984.0     8\n",
       "1983.0     7\n",
       "1926.0     6\n",
       "1986.0     6\n",
       "1951.0     6\n",
       "1916.0     5\n",
       "1922.0     5\n",
       "1936.0     5\n",
       "1945.0     4\n",
       "1946.0     4\n",
       "1928.0     4\n",
       "1935.0     4\n",
       "1982.0     4\n",
       "1931.0     4\n",
       "1910.0     3\n",
       "2010.0     3\n",
       "1923.0     3\n",
       "1932.0     3\n",
       "1952.0     3\n",
       "1938.0     3\n",
       "1924.0     3\n",
       "1921.0     3\n",
       "1947.0     2\n",
       "1937.0     2\n",
       "1942.0     2\n",
       "1915.0     2\n",
       "1918.0     2\n",
       "1934.0     2\n",
       "1914.0     2\n",
       "1929.0     2\n",
       "1927.0     1\n",
       "1900.0     1\n",
       "1906.0     1\n",
       "1908.0     1\n",
       "1933.0     1\n",
       "Name: GarageYrBlt, dtype: int64"
      ]
     },
     "execution_count": 29,
     "metadata": {},
     "output_type": "execute_result"
    }
   ],
   "source": [
    "df2.GarageYrBlt.value_counts()"
   ]
  },
  {
   "cell_type": "code",
   "execution_count": 30,
   "id": "b875efc4-833c-4d12-ae85-c464efac1a16",
   "metadata": {},
   "outputs": [
    {
     "data": {
      "text/plain": [
       "<AxesSubplot:xlabel='GarageYrBlt', ylabel='Count'>"
      ]
     },
     "execution_count": 30,
     "metadata": {},
     "output_type": "execute_result"
    },
    {
     "data": {
      "image/png": "[encoded data removed]",
      "text/plain": [
       "<Figure size 432x288 with 1 Axes>"
      ]
     },
     "metadata": {
      "needs_background": "light"
     },
     "output_type": "display_data"
    }
   ],
   "source": [
    "sns.histplot(df.GarageYrBlt)"
   ]
  },
  {
   "cell_type": "markdown",
   "id": "1aa4bcce-519a-4f43-b8fe-05ee19952c1d",
   "metadata": {},
   "source": [
    "#### For GarageYrBlt we see multiple values of year\n",
    "#### So we will transform into categorical by marking between years as below\n",
    "#### After plotting histogram with the change, we are satisfied and can use this categorical derived variable"
   ]
  },
  {
   "cell_type": "code",
   "execution_count": 31,
   "id": "14d4c217-3432-4d5a-a97e-89c6d7b6c9e7",
   "metadata": {},
   "outputs": [],
   "source": [
    "def GarageYrBltTimeframe(row):\n",
    "    if row >= 2005 and row <= 2010:\n",
    "        return \"2005-2010\"\n",
    "    if row >= 2000 and row <= 2004:\n",
    "        return \"2000-2004\"\n",
    "    if row >= 1990 and row <= 1999:\n",
    "        return \"1990-1999\"\n",
    "    if row >= 1980 and row <= 1989:\n",
    "        return \"1980-1989\"\n",
    "    if row >= 1970 and row <= 1979:\n",
    "        return \"1970-1979\"\n",
    "    if row >= 1960 and row <= 1969:\n",
    "        return \"1960-1969\"\n",
    "    if row >= 1950 and row <= 1959:\n",
    "        return \"1950-1959\"\n",
    "    if row <= 1949:\n",
    "        return \"Before1950\"\n",
    "    return \"Unknown\""
   ]
  },
  {
   "cell_type": "code",
   "execution_count": 32,
   "id": "765786ef-a503-424c-8cf1-f7523af5412e",
   "metadata": {},
   "outputs": [
    {
     "name": "stderr",
     "output_type": "stream",
     "text": [
      "C:\\Python\\lib\\site-packages\\pandas\\core\\generic.py:6392: SettingWithCopyWarning: \n",
      "A value is trying to be set on a copy of a slice from a DataFrame\n",
      "\n",
      "See the caveats in the documentation: https://pandas.pydata.org/pandas-docs/stable/user_guide/indexing.html#returning-a-view-versus-a-copy\n",
      "  return self._update_inplace(result)\n"
     ]
    }
   ],
   "source": [
    "df2.GarageYrBlt.fillna(0.0, inplace=True)"
   ]
  },
  {
   "cell_type": "code",
   "execution_count": 33,
   "id": "18144bb2-b938-4415-bf49-b9706928061c",
   "metadata": {},
   "outputs": [
    {
     "name": "stderr",
     "output_type": "stream",
     "text": [
      "C:\\Users\\JITHAN\\AppData\\Local\\Temp/ipykernel_48500/3828301649.py:1: SettingWithCopyWarning: \n",
      "A value is trying to be set on a copy of a slice from a DataFrame.\n",
      "Try using .loc[row_indexer,col_indexer] = value instead\n",
      "\n",
      "See the caveats in the documentation: https://pandas.pydata.org/pandas-docs/stable/user_guide/indexing.html#returning-a-view-versus-a-copy\n",
      "  df2[\"GarageYrBltTime\"] = df2.GarageYrBlt.astype(int).apply(lambda row: GarageYrBltTimeframe(row))\n"
     ]
    }
   ],
   "source": [
    "df2[\"GarageYrBltTime\"] = df2.GarageYrBlt.astype(int).apply(lambda row: GarageYrBltTimeframe(row))"
   ]
  },
  {
   "cell_type": "code",
   "execution_count": 34,
   "id": "155a41d2-01a2-47f0-914a-1a151502b5d9",
   "metadata": {},
   "outputs": [
    {
     "data": {
      "text/plain": [
       "Before1950    245\n",
       "2005-2010     222\n",
       "1990-1999     196\n",
       "1970-1979     185\n",
       "1960-1969     185\n",
       "2000-2004     173\n",
       "1950-1959     151\n",
       "1980-1989      95\n",
       "Name: GarageYrBltTime, dtype: int64"
      ]
     },
     "execution_count": 34,
     "metadata": {},
     "output_type": "execute_result"
    }
   ],
   "source": [
    "df2.GarageYrBltTime.value_counts()"
   ]
  },
  {
   "cell_type": "code",
   "execution_count": 35,
   "id": "7aed0d05-918f-4d8e-a15b-fa1ad39a2cbf",
   "metadata": {},
   "outputs": [
    {
     "data": {
      "text/plain": [
       "Index(['Id', 'MSSubClass', 'MSZoning', 'LotFrontage', 'LotArea', 'Street',\n",
       "       'LotShape', 'LandContour', 'Utilities', 'LotConfig', 'LandSlope',\n",
       "       'Neighborhood', 'Condition1', 'Condition2', 'BldgType', 'HouseStyle',\n",
       "       'OverallQual', 'OverallCond', 'YearBuilt', 'YearRemodAdd', 'RoofStyle',\n",
       "       'RoofMatl', 'Exterior1st', 'Exterior2nd', 'MasVnrType', 'MasVnrArea',\n",
       "       'ExterQual', 'ExterCond', 'Foundation', 'BsmtQual', 'BsmtCond',\n",
       "       'BsmtExposure', 'BsmtFinType1', 'BsmtFinSF1', 'BsmtFinType2',\n",
       "       'BsmtFinSF2', 'BsmtUnfSF', 'TotalBsmtSF', 'Heating', 'HeatingQC',\n",
       "       'CentralAir', '1stFlrSF', '2ndFlrSF', 'LowQualFinSF', 'GrLivArea',\n",
       "       'BsmtFullBath', 'BsmtHalfBath', 'FullBath', 'HalfBath', 'BedroomAbvGr',\n",
       "       'KitchenAbvGr', 'KitchenQual', 'TotRmsAbvGrd', 'Functional',\n",
       "       'Fireplaces', 'FireplaceQu', 'GarageType', 'GarageYrBlt',\n",
       "       'GarageFinish', 'GarageCars', 'GarageArea', 'GarageQual', 'GarageCond',\n",
       "       'PavedDrive', 'WoodDeckSF', 'OpenPorchSF', 'EnclosedPorch', '3SsnPorch',\n",
       "       'ScreenPorch', 'PoolArea', 'MiscVal', 'MoSold', 'YrSold', 'SaleType',\n",
       "       'SaleCondition', 'SalePrice', 'GarageYrBltTime'],\n",
       "      dtype='object')"
      ]
     },
     "execution_count": 35,
     "metadata": {},
     "output_type": "execute_result"
    }
   ],
   "source": [
    "df2.columns"
   ]
  },
  {
   "cell_type": "code",
   "execution_count": 36,
   "id": "7d1fca60-6249-4188-972a-7f16b97b8f22",
   "metadata": {},
   "outputs": [
    {
     "data": {
      "text/plain": [
       "<AxesSubplot:xlabel='Count', ylabel='GarageYrBltTime'>"
      ]
     },
     "execution_count": 36,
     "metadata": {},
     "output_type": "execute_result"
    },
    {
     "data": {
      "image/png": "[encoded data removed]",
      "text/plain": [
       "<Figure size 432x288 with 1 Axes>"
      ]
     },
     "metadata": {
      "needs_background": "light"
     },
     "output_type": "display_data"
    }
   ],
   "source": [
    "sns.histplot(data=df2, y=df2.GarageYrBltTime )"
   ]
  },
  {
   "cell_type": "code",
   "execution_count": 37,
   "id": "822f563c-d01d-4646-bebb-f4605f920bf3",
   "metadata": {},
   "outputs": [
    {
     "data": {
      "text/plain": [
       "Index(['Id', 'MSSubClass', 'MSZoning', 'LotFrontage', 'LotArea', 'Street',\n",
       "       'LotShape', 'LandContour', 'Utilities', 'LotConfig', 'LandSlope',\n",
       "       'Neighborhood', 'Condition1', 'Condition2', 'BldgType', 'HouseStyle',\n",
       "       'OverallQual', 'OverallCond', 'YearBuilt', 'YearRemodAdd', 'RoofStyle',\n",
       "       'RoofMatl', 'Exterior1st', 'Exterior2nd', 'MasVnrType', 'MasVnrArea',\n",
       "       'ExterQual', 'ExterCond', 'Foundation', 'BsmtQual', 'BsmtCond',\n",
       "       'BsmtExposure', 'BsmtFinType1', 'BsmtFinSF1', 'BsmtFinType2',\n",
       "       'BsmtFinSF2', 'BsmtUnfSF', 'TotalBsmtSF', 'Heating', 'HeatingQC',\n",
       "       'CentralAir', '1stFlrSF', '2ndFlrSF', 'LowQualFinSF', 'GrLivArea',\n",
       "       'BsmtFullBath', 'BsmtHalfBath', 'FullBath', 'HalfBath', 'BedroomAbvGr',\n",
       "       'KitchenAbvGr', 'KitchenQual', 'TotRmsAbvGrd', 'Functional',\n",
       "       'Fireplaces', 'FireplaceQu', 'GarageType', 'GarageYrBlt',\n",
       "       'GarageFinish', 'GarageCars', 'GarageArea', 'GarageQual', 'GarageCond',\n",
       "       'PavedDrive', 'WoodDeckSF', 'OpenPorchSF', 'EnclosedPorch', '3SsnPorch',\n",
       "       'ScreenPorch', 'PoolArea', 'MiscVal', 'MoSold', 'YrSold', 'SaleType',\n",
       "       'SaleCondition', 'SalePrice', 'GarageYrBltTime'],\n",
       "      dtype='object')"
      ]
     },
     "execution_count": 37,
     "metadata": {},
     "output_type": "execute_result"
    }
   ],
   "source": [
    "df2.columns"
   ]
  },
  {
   "cell_type": "code",
   "execution_count": 38,
   "id": "6437a01e-f125-41fe-9876-9fc08dc2b261",
   "metadata": {},
   "outputs": [],
   "source": [
    "df2 = df2.drop(\"GarageYrBlt\", axis=1)"
   ]
  },
  {
   "cell_type": "markdown",
   "id": "44c6b2fa-ee2c-4c91-b330-8560ad81dd29",
   "metadata": {},
   "source": [
    "#### We handle categorial variable by creating dummy variables\n",
    "#### Also we will remove the original variables after dummy addition"
   ]
  },
  {
   "cell_type": "code",
   "execution_count": 39,
   "id": "653d13be-56aa-4651-8d7b-daca359c6e52",
   "metadata": {},
   "outputs": [],
   "source": [
    "# Convert object variables using dummy variables\n",
    "dummy = pd.get_dummies(df2[['MSZoning', 'Street', 'LotShape', 'LandContour', 'Utilities',\n",
    "       'LotConfig', 'LandSlope', 'Neighborhood', 'Condition1', 'Condition2',\n",
    "       'BldgType', 'HouseStyle', 'RoofStyle', 'RoofMatl', 'Exterior1st',\n",
    "       'Exterior2nd', 'MasVnrType', 'ExterQual', 'ExterCond', 'Foundation',\n",
    "       'BsmtQual', 'BsmtCond', 'BsmtExposure', 'BsmtFinType1', 'BsmtFinType2',\n",
    "       'Heating', 'HeatingQC', 'CentralAir', 'KitchenQual',\n",
    "       'Functional', 'FireplaceQu', 'GarageType', 'GarageFinish', 'GarageQual',\n",
    "       'GarageCond', 'PavedDrive', 'SaleType', 'SaleCondition', 'GarageYrBltTime']], drop_first=True)\n",
    "df_new = pd.concat([df2, dummy], axis=1)"
   ]
  },
  {
   "cell_type": "code",
   "execution_count": 40,
   "id": "94a2de59-364d-44f9-9542-51c56fb1d75e",
   "metadata": {},
   "outputs": [
    {
     "data": {
      "text/plain": [
       "(1452, 289)"
      ]
     },
     "execution_count": 40,
     "metadata": {},
     "output_type": "execute_result"
    }
   ],
   "source": [
    "df_new.shape"
   ]
  },
  {
   "cell_type": "code",
   "execution_count": 41,
   "id": "66a3b734-ce3b-4775-8599-a205e984d232",
   "metadata": {},
   "outputs": [],
   "source": [
    "for col in ['MSZoning', 'Street', 'LotShape', 'LandContour', 'Utilities',\n",
    "       'LotConfig', 'LandSlope', 'Neighborhood', 'Condition1', 'Condition2',\n",
    "       'BldgType', 'HouseStyle', 'RoofStyle', 'RoofMatl', 'Exterior1st',\n",
    "       'Exterior2nd', 'MasVnrType', 'ExterQual', 'ExterCond', 'Foundation',\n",
    "       'BsmtQual', 'BsmtCond', 'BsmtExposure', 'BsmtFinType1', 'BsmtFinType2',\n",
    "       'Heating', 'HeatingQC', 'CentralAir',  'KitchenQual',\n",
    "       'Functional', 'FireplaceQu', 'GarageType', 'GarageFinish', 'GarageQual',\n",
    "       'GarageCond', 'PavedDrive', 'SaleType', 'SaleCondition', 'GarageYrBltTime']:\n",
    "    df_new.drop(col, inplace=True, axis=1)"
   ]
  },
  {
   "cell_type": "code",
   "execution_count": 42,
   "id": "d47a4519-fbf2-405c-95b1-e885a3a368d4",
   "metadata": {},
   "outputs": [
    {
     "data": {
      "text/plain": [
       "(1452, 250)"
      ]
     },
     "execution_count": 42,
     "metadata": {},
     "output_type": "execute_result"
    }
   ],
   "source": [
    "df_new.shape"
   ]
  },
  {
   "cell_type": "code",
   "execution_count": 43,
   "id": "b77b8989-ee6d-4f95-ae19-f2aced357e82",
   "metadata": {},
   "outputs": [],
   "source": [
    "df_final = df = df_new"
   ]
  },
  {
   "cell_type": "markdown",
   "id": "22215ddb-1cb8-48eb-bb96-cea843130d99",
   "metadata": {},
   "source": [
    "#### We create a RFE model\n",
    "#### We started with feature count 50 and saw many Inf (infinity) values for VIF\n",
    "#### Hence we reduced feature counts for RFE and found optimal value at 38 where no VIF is having Inf value\n"
   ]
  },
  {
   "cell_type": "code",
   "execution_count": 44,
   "id": "969c7229-699e-4e1d-8e84-11a54cfce69c",
   "metadata": {},
   "outputs": [],
   "source": [
    "import sklearn\n",
    "from sklearn.model_selection import train_test_split\n",
    "\n",
    "df_train, df_test = train_test_split(df, train_size=0.8, random_state=100)"
   ]
  },
  {
   "cell_type": "code",
   "execution_count": 45,
   "id": "f4a6ac47-b38d-4ea5-80d2-ab14f73c648d",
   "metadata": {},
   "outputs": [],
   "source": [
    "# scaling\n",
    "from sklearn.preprocessing import MinMaxScaler\n",
    "Scaler = MinMaxScaler()\n",
    "\n",
    "num_vars = ['MSSubClass', 'LotArea', 'OverallQual', 'OverallCond',\n",
    "       'YearBuilt', 'YearRemodAdd', 'BsmtFinSF1', 'BsmtFinSF2', 'BsmtUnfSF',\n",
    "       'TotalBsmtSF', '1stFlrSF', '2ndFlrSF', 'LowQualFinSF', 'GrLivArea',\n",
    "       'BsmtFullBath', 'BsmtHalfBath', 'FullBath', 'HalfBath', 'BedroomAbvGr',\n",
    "       'KitchenAbvGr', 'TotRmsAbvGrd', 'Fireplaces', 'GarageCars',\n",
    "       'GarageArea', 'WoodDeckSF', 'OpenPorchSF', 'EnclosedPorch', '3SsnPorch',\n",
    "       'ScreenPorch', 'PoolArea', 'MiscVal', 'MoSold', 'YrSold', 'SalePrice', 'LotFrontage', 'MasVnrArea']\n",
    "df_train[num_vars] = Scaler.fit_transform(df_train[num_vars])"
   ]
  },
  {
   "cell_type": "code",
   "execution_count": 46,
   "id": "44dd8293-7f9e-4843-a388-a650de56b25c",
   "metadata": {},
   "outputs": [],
   "source": [
    "# Divide into X & y for model building\n",
    "y_train = df_train.pop(\"SalePrice\")\n",
    "X_train = df_train"
   ]
  },
  {
   "cell_type": "code",
   "execution_count": 47,
   "id": "a2594aa2-4e88-404c-952d-08e5808c5c21",
   "metadata": {},
   "outputs": [],
   "source": [
    "from sklearn.feature_selection import RFE\n",
    "from sklearn.linear_model import LinearRegression"
   ]
  },
  {
   "cell_type": "code",
   "execution_count": 48,
   "id": "612644d8-9ccf-4831-8e81-abe2e8c48f46",
   "metadata": {},
   "outputs": [
    {
     "data": {
      "text/plain": [
       "LinearRegression()"
      ]
     },
     "execution_count": 48,
     "metadata": {},
     "output_type": "execute_result"
    }
   ],
   "source": [
    "lm = LinearRegression()\n",
    "lm.fit(X_train, y_train)"
   ]
  },
  {
   "cell_type": "code",
   "execution_count": 49,
   "id": "574238ab-e985-429d-b47b-018f4e6c8c1a",
   "metadata": {},
   "outputs": [],
   "source": [
    "rfe = RFE(lm, n_features_to_select=38)"
   ]
  },
  {
   "cell_type": "code",
   "execution_count": 50,
   "id": "9040f786-9b2c-4236-844a-4a3fec611db6",
   "metadata": {},
   "outputs": [
    {
     "data": {
      "text/plain": [
       "[('Id', False, 209),\n",
       " ('MSSubClass', False, 51),\n",
       " ('LotFrontage', False, 56),\n",
       " ('LotArea', True, 1),\n",
       " ('OverallQual', True, 1),\n",
       " ('OverallCond', True, 1),\n",
       " ('YearBuilt', True, 1),\n",
       " ('YearRemodAdd', False, 99),\n",
       " ('MasVnrArea', False, 27),\n",
       " ('BsmtFinSF1', True, 1),\n",
       " ('BsmtFinSF2', False, 7),\n",
       " ('BsmtUnfSF', False, 6),\n",
       " ('TotalBsmtSF', True, 1),\n",
       " ('1stFlrSF', True, 1),\n",
       " ('2ndFlrSF', True, 1),\n",
       " ('LowQualFinSF', False, 12),\n",
       " ('GrLivArea', False, 9),\n",
       " ('BsmtFullBath', False, 48),\n",
       " ('BsmtHalfBath', False, 152),\n",
       " ('FullBath', False, 47),\n",
       " ('HalfBath', False, 116),\n",
       " ('BedroomAbvGr', True, 1),\n",
       " ('KitchenAbvGr', True, 1),\n",
       " ('TotRmsAbvGrd', True, 1),\n",
       " ('Fireplaces', False, 64),\n",
       " ('GarageCars', False, 4),\n",
       " ('GarageArea', False, 79),\n",
       " ('WoodDeckSF', False, 63),\n",
       " ('OpenPorchSF', False, 158),\n",
       " ('EnclosedPorch', False, 202),\n",
       " ('3SsnPorch', False, 55),\n",
       " ('ScreenPorch', False, 187),\n",
       " ('PoolArea', True, 1),\n",
       " ('MiscVal', False, 167),\n",
       " ('MoSold', False, 171),\n",
       " ('YrSold', False, 185),\n",
       " ('MSZoning_FV', False, 33),\n",
       " ('MSZoning_RH', False, 41),\n",
       " ('MSZoning_RL', False, 39),\n",
       " ('MSZoning_RM', False, 40),\n",
       " ('Street_Pave', False, 30),\n",
       " ('LotShape_IR2', False, 170),\n",
       " ('LotShape_IR3', False, 136),\n",
       " ('LotShape_Reg', False, 200),\n",
       " ('LandContour_HLS', False, 143),\n",
       " ('LandContour_Low', False, 109),\n",
       " ('LandContour_Lvl', False, 135),\n",
       " ('Utilities_NoSeWa', False, 28),\n",
       " ('LotConfig_CulDSac', False, 61),\n",
       " ('LotConfig_FR2', False, 110),\n",
       " ('LotConfig_FR3', False, 44),\n",
       " ('LotConfig_Inside', False, 178),\n",
       " ('LandSlope_Mod', False, 113),\n",
       " ('LandSlope_Sev', True, 1),\n",
       " ('Neighborhood_Blueste', False, 153),\n",
       " ('Neighborhood_BrDale', False, 144),\n",
       " ('Neighborhood_BrkSide', False, 157),\n",
       " ('Neighborhood_ClearCr', False, 126),\n",
       " ('Neighborhood_CollgCr', False, 127),\n",
       " ('Neighborhood_Crawfor', True, 1),\n",
       " ('Neighborhood_Edwards', False, 77),\n",
       " ('Neighborhood_Gilbert', False, 128),\n",
       " ('Neighborhood_IDOTRR', False, 197),\n",
       " ('Neighborhood_MeadowV', False, 179),\n",
       " ('Neighborhood_Mitchel', False, 50),\n",
       " ('Neighborhood_NAmes', False, 76),\n",
       " ('Neighborhood_NPkVill', False, 52),\n",
       " ('Neighborhood_NWAmes', False, 49),\n",
       " ('Neighborhood_NoRidge', True, 1),\n",
       " ('Neighborhood_NridgHt', True, 1),\n",
       " ('Neighborhood_OldTown', False, 82),\n",
       " ('Neighborhood_SWISU', False, 162),\n",
       " ('Neighborhood_Sawyer', False, 92),\n",
       " ('Neighborhood_SawyerW', False, 169),\n",
       " ('Neighborhood_Somerst', False, 203),\n",
       " ('Neighborhood_StoneBr', True, 1),\n",
       " ('Neighborhood_Timber', False, 145),\n",
       " ('Neighborhood_Veenker', False, 114),\n",
       " ('Condition1_Feedr', False, 97),\n",
       " ('Condition1_Norm', False, 60),\n",
       " ('Condition1_PosA', False, 68),\n",
       " ('Condition1_PosN', False, 58),\n",
       " ('Condition1_RRAe', False, 124),\n",
       " ('Condition1_RRAn', False, 119),\n",
       " ('Condition1_RRNe', False, 193),\n",
       " ('Condition1_RRNn', False, 133),\n",
       " ('Condition2_Feedr', False, 59),\n",
       " ('Condition2_Norm', False, 101),\n",
       " ('Condition2_PosA', True, 1),\n",
       " ('Condition2_PosN', True, 1),\n",
       " ('Condition2_RRAe', True, 1),\n",
       " ('Condition2_RRAn', False, 192),\n",
       " ('Condition2_RRNn', False, 87),\n",
       " ('BldgType_2fmCon', False, 138),\n",
       " ('BldgType_Duplex', False, 42),\n",
       " ('BldgType_Twnhs', False, 29),\n",
       " ('BldgType_TwnhsE', False, 31),\n",
       " ('HouseStyle_1.5Unf', False, 93),\n",
       " ('HouseStyle_1Story', False, 125),\n",
       " ('HouseStyle_2.5Fin', False, 95),\n",
       " ('HouseStyle_2.5Unf', False, 104),\n",
       " ('HouseStyle_2Story', False, 98),\n",
       " ('HouseStyle_SFoyer', False, 183),\n",
       " ('HouseStyle_SLvl', False, 181),\n",
       " ('RoofStyle_Gable', False, 147),\n",
       " ('RoofStyle_Gambrel', False, 105),\n",
       " ('RoofStyle_Hip', False, 146),\n",
       " ('RoofStyle_Mansard', False, 46),\n",
       " ('RoofStyle_Shed', True, 1),\n",
       " ('RoofMatl_CompShg', True, 1),\n",
       " ('RoofMatl_Membran', True, 1),\n",
       " ('RoofMatl_Metal', True, 1),\n",
       " ('RoofMatl_Roll', True, 1),\n",
       " ('RoofMatl_Tar&Grv', True, 1),\n",
       " ('RoofMatl_WdShake', True, 1),\n",
       " ('RoofMatl_WdShngl', True, 1),\n",
       " ('Exterior1st_AsphShn', False, 211),\n",
       " ('Exterior1st_BrkComm', False, 176),\n",
       " ('Exterior1st_BrkFace', False, 108),\n",
       " ('Exterior1st_CBlock', False, 17),\n",
       " ('Exterior1st_CemntBd', False, 57),\n",
       " ('Exterior1st_HdBoard', False, 91),\n",
       " ('Exterior1st_ImStucc', False, 210),\n",
       " ('Exterior1st_MetalSd', False, 151),\n",
       " ('Exterior1st_Plywood', False, 90),\n",
       " ('Exterior1st_Stone', False, 177),\n",
       " ('Exterior1st_Stucco', False, 120),\n",
       " ('Exterior1st_VinylSd', False, 150),\n",
       " ('Exterior1st_Wd Sdng', False, 149),\n",
       " ('Exterior1st_WdShing', False, 148),\n",
       " ('Exterior2nd_AsphShn', False, 174),\n",
       " ('Exterior2nd_Brk Cmn', False, 188),\n",
       " ('Exterior2nd_BrkFace', False, 140),\n",
       " ('Exterior2nd_CBlock', False, 15),\n",
       " ('Exterior2nd_CmentBd', False, 54),\n",
       " ('Exterior2nd_HdBoard', False, 159),\n",
       " ('Exterior2nd_ImStucc', False, 36),\n",
       " ('Exterior2nd_MetalSd', False, 189),\n",
       " ('Exterior2nd_Other', False, 34),\n",
       " ('Exterior2nd_Plywood', False, 173),\n",
       " ('Exterior2nd_Stone', False, 102),\n",
       " ('Exterior2nd_Stucco', False, 123),\n",
       " ('Exterior2nd_VinylSd', False, 175),\n",
       " ('Exterior2nd_Wd Sdng', False, 172),\n",
       " ('Exterior2nd_Wd Shng', False, 190),\n",
       " ('MasVnrType_BrkFace', False, 86),\n",
       " ('MasVnrType_None', False, 85),\n",
       " ('MasVnrType_Stone', False, 84),\n",
       " ('ExterQual_Fa', False, 83),\n",
       " ('ExterQual_Gd', False, 38),\n",
       " ('ExterQual_TA', False, 37),\n",
       " ('ExterCond_Fa', False, 155),\n",
       " ('ExterCond_Gd', False, 160),\n",
       " ('ExterCond_Po', False, 212),\n",
       " ('ExterCond_TA', False, 161),\n",
       " ('Foundation_CBlock', False, 165),\n",
       " ('Foundation_PConc', False, 166),\n",
       " ('Foundation_Slab', False, 106),\n",
       " ('Foundation_Stone', False, 103),\n",
       " ('Foundation_Wood', True, 1),\n",
       " ('BsmtQual_Fa', True, 1),\n",
       " ('BsmtQual_Gd', True, 1),\n",
       " ('BsmtQual_Np', True, 1),\n",
       " ('BsmtQual_TA', True, 1),\n",
       " ('BsmtCond_Gd', False, 94),\n",
       " ('BsmtCond_Np', False, 5),\n",
       " ('BsmtCond_Po', True, 1),\n",
       " ('BsmtCond_TA', False, 205),\n",
       " ('BsmtExposure_Gd', False, 35),\n",
       " ('BsmtExposure_Mn', False, 111),\n",
       " ('BsmtExposure_No', False, 115),\n",
       " ('BsmtExposure_Np', False, 112),\n",
       " ('BsmtFinType1_BLQ', False, 186),\n",
       " ('BsmtFinType1_GLQ', False, 96),\n",
       " ('BsmtFinType1_LwQ', False, 154),\n",
       " ('BsmtFinType1_Np', False, 2),\n",
       " ('BsmtFinType1_Rec', False, 207),\n",
       " ('BsmtFinType1_Unf', False, 134),\n",
       " ('BsmtFinType2_BLQ', False, 78),\n",
       " ('BsmtFinType2_GLQ', False, 137),\n",
       " ('BsmtFinType2_LwQ', False, 81),\n",
       " ('BsmtFinType2_Np', True, 1),\n",
       " ('BsmtFinType2_Rec', False, 89),\n",
       " ('BsmtFinType2_Unf', False, 88),\n",
       " ('Heating_GasA', False, 118),\n",
       " ('Heating_GasW', False, 122),\n",
       " ('Heating_Grav', False, 121),\n",
       " ('Heating_OthW', False, 156),\n",
       " ('Heating_Wall', False, 62),\n",
       " ('HeatingQC_Fa', False, 191),\n",
       " ('HeatingQC_Gd', False, 194),\n",
       " ('HeatingQC_Po', False, 164),\n",
       " ('HeatingQC_TA', False, 195),\n",
       " ('CentralAir_Y', False, 208),\n",
       " ('KitchenQual_Fa', False, 32),\n",
       " ('KitchenQual_Gd', False, 25),\n",
       " ('KitchenQual_TA', False, 24),\n",
       " ('Functional_Maj2', False, 66),\n",
       " ('Functional_Min1', False, 132),\n",
       " ('Functional_Min2', False, 131),\n",
       " ('Functional_Mod', False, 53),\n",
       " ('Functional_Sev', True, 1),\n",
       " ('Functional_Typ', False, 43),\n",
       " ('FireplaceQu_Fa', False, 107),\n",
       " ('FireplaceQu_Gd', False, 67),\n",
       " ('FireplaceQu_Np', False, 65),\n",
       " ('FireplaceQu_Po', False, 70),\n",
       " ('FireplaceQu_TA', False, 69),\n",
       " ('GarageType_Attchd', False, 74),\n",
       " ('GarageType_Basment', False, 75),\n",
       " ('GarageType_BuiltIn', False, 73),\n",
       " ('GarageType_CarPort', False, 71),\n",
       " ('GarageType_Detchd', False, 72),\n",
       " ('GarageType_Np', False, 19),\n",
       " ('GarageFinish_Np', False, 20),\n",
       " ('GarageFinish_RFn', False, 139),\n",
       " ('GarageFinish_Unf', False, 180),\n",
       " ('GarageQual_Fa', False, 10),\n",
       " ('GarageQual_Gd', False, 18),\n",
       " ('GarageQual_Np', False, 21),\n",
       " ('GarageQual_Po', True, 1),\n",
       " ('GarageQual_TA', False, 11),\n",
       " ('GarageCond_Fa', False, 14),\n",
       " ('GarageCond_Gd', False, 8),\n",
       " ('GarageCond_Np', False, 22),\n",
       " ('GarageCond_Po', False, 16),\n",
       " ('GarageCond_TA', False, 13),\n",
       " ('PavedDrive_P', False, 204),\n",
       " ('PavedDrive_Y', False, 184),\n",
       " ('SaleType_CWD', False, 80),\n",
       " ('SaleType_Con', True, 1),\n",
       " ('SaleType_ConLD', False, 45),\n",
       " ('SaleType_ConLI', False, 117),\n",
       " ('SaleType_ConLw', False, 196),\n",
       " ('SaleType_New', False, 23),\n",
       " ('SaleType_Oth', False, 3),\n",
       " ('SaleType_WD', False, 206),\n",
       " ('SaleCondition_AdjLand', False, 129),\n",
       " ('SaleCondition_Alloca', False, 163),\n",
       " ('SaleCondition_Family', False, 201),\n",
       " ('SaleCondition_Normal', False, 130),\n",
       " ('SaleCondition_Partial', False, 26),\n",
       " ('GarageYrBltTime_1960-1969', False, 182),\n",
       " ('GarageYrBltTime_1970-1979', False, 168),\n",
       " ('GarageYrBltTime_1980-1989', False, 199),\n",
       " ('GarageYrBltTime_1990-1999', False, 198),\n",
       " ('GarageYrBltTime_2000-2004', False, 141),\n",
       " ('GarageYrBltTime_2005-2010', False, 142),\n",
       " ('GarageYrBltTime_Before1950', False, 100)]"
      ]
     },
     "execution_count": 50,
     "metadata": {},
     "output_type": "execute_result"
    }
   ],
   "source": [
    "rfe = rfe.fit(X_train, y_train)\n",
    "list(zip(X_train.columns, rfe.support_, rfe.ranking_))"
   ]
  },
  {
   "cell_type": "code",
   "execution_count": 51,
   "id": "04fa11d5-95f9-41c9-9c5e-60ff49efd106",
   "metadata": {},
   "outputs": [],
   "source": [
    "# We will consider only significant rows given by rfe with value True for rfe.support_\n",
    "true_cols = X_train.columns[rfe.support_]"
   ]
  },
  {
   "cell_type": "code",
   "execution_count": 52,
   "id": "703ca841-53f0-4093-8ed2-4a8ef136b9b4",
   "metadata": {},
   "outputs": [],
   "source": [
    "X_train_rfe = X_train[true_cols]"
   ]
  },
  {
   "cell_type": "code",
   "execution_count": 53,
   "id": "1f781cd8-c51b-4112-9131-d8d71971d2bf",
   "metadata": {},
   "outputs": [
    {
     "name": "stdout",
     "output_type": "stream",
     "text": [
      "                            OLS Regression Results                            \n",
      "==============================================================================\n",
      "Dep. Variable:              SalePrice   R-squared:                       0.887\n",
      "Model:                            OLS   Adj. R-squared:                  0.884\n",
      "Method:                 Least Squares   F-statistic:                     232.8\n",
      "Date:                Wed, 13 Apr 2022   Prob (F-statistic):               0.00\n",
      "Time:                        00:39:09   Log-Likelihood:                 2187.9\n",
      "No. Observations:                1161   AIC:                            -4298.\n",
      "Df Residuals:                    1122   BIC:                            -4101.\n",
      "Df Model:                          38                                         \n",
      "Covariance Type:            nonrobust                                         \n",
      "========================================================================================\n",
      "                           coef    std err          t      P>|t|      [0.025      0.975]\n",
      "----------------------------------------------------------------------------------------\n",
      "const                   -1.0652      0.049    -21.599      0.000      -1.162      -0.968\n",
      "LotArea                  0.2567      0.030      8.432      0.000       0.197       0.316\n",
      "OverallQual              0.1385      0.013     10.509      0.000       0.113       0.164\n",
      "OverallCond              0.0884      0.009      9.706      0.000       0.071       0.106\n",
      "YearBuilt                0.1039      0.009     11.712      0.000       0.086       0.121\n",
      "BsmtFinSF1               0.1523      0.017      8.860      0.000       0.119       0.186\n",
      "TotalBsmtSF              0.3469      0.044      7.966      0.000       0.261       0.432\n",
      "1stFlrSF                 0.2672      0.034      7.892      0.000       0.201       0.334\n",
      "2ndFlrSF                 0.1699      0.011     16.112      0.000       0.149       0.191\n",
      "BedroomAbvGr            -0.0872      0.017     -5.261      0.000      -0.120      -0.055\n",
      "KitchenAbvGr            -0.1059      0.017     -6.177      0.000      -0.140      -0.072\n",
      "TotRmsAbvGrd             0.0669      0.018      3.675      0.000       0.031       0.103\n",
      "PoolArea                 0.0661      0.022      2.980      0.003       0.023       0.110\n",
      "LandSlope_Sev           -0.0606      0.016     -3.711      0.000      -0.093      -0.029\n",
      "Neighborhood_Crawfor     0.0392      0.007      5.940      0.000       0.026       0.052\n",
      "Neighborhood_NoRidge     0.0565      0.007      7.726      0.000       0.042       0.071\n",
      "Neighborhood_NridgHt     0.0432      0.006      7.057      0.000       0.031       0.055\n",
      "Neighborhood_StoneBr     0.0583      0.009      6.618      0.000       0.041       0.076\n",
      "Condition2_PosA          0.0630      0.038      1.646      0.100      -0.012       0.138\n",
      "Condition2_PosN         -0.2927      0.028    -10.630      0.000      -0.347      -0.239\n",
      "Condition2_RRAe         -0.1678      0.060     -2.788      0.005      -0.286      -0.050\n",
      "RoofStyle_Shed           0.1115      0.046      2.407      0.016       0.021       0.202\n",
      "RoofMatl_CompShg         0.9927      0.046     21.487      0.000       0.902       1.083\n",
      "RoofMatl_Membran         1.1010      0.062     17.854      0.000       0.980       1.222\n",
      "RoofMatl_Metal           1.0846      0.062     17.491      0.000       0.963       1.206\n",
      "RoofMatl_Roll            0.9834      0.060     16.476      0.000       0.866       1.100\n",
      "RoofMatl_Tar&Grv         1.0026      0.048     20.929      0.000       0.909       1.097\n",
      "RoofMatl_WdShake         0.9714      0.052     18.730      0.000       0.870       1.073\n",
      "RoofMatl_WdShngl         0.9941      0.050     19.891      0.000       0.896       1.092\n",
      "Foundation_Wood         -0.0509      0.027     -1.915      0.056      -0.103       0.001\n",
      "BsmtQual_Fa             -0.0455      0.010     -4.571      0.000      -0.065      -0.026\n",
      "BsmtQual_Gd             -0.0574      0.005    -10.776      0.000      -0.068      -0.047\n",
      "BsmtQual_Np              0.0731      0.044      1.658      0.098      -0.013       0.160\n",
      "BsmtQual_TA             -0.0565      0.006     -8.736      0.000      -0.069      -0.044\n",
      "BsmtCond_Po              0.0724      0.032      2.285      0.022       0.010       0.135\n",
      "BsmtFinType2_Np         -0.0758      0.040     -1.919      0.055      -0.153       0.002\n",
      "Functional_Sev          -0.1267      0.040     -3.187      0.001      -0.205      -0.049\n",
      "GarageQual_Po           -0.0456      0.024     -1.873      0.061      -0.093       0.002\n",
      "SaleType_Con             0.0607      0.027      2.282      0.023       0.009       0.113\n",
      "==============================================================================\n",
      "Omnibus:                      259.606   Durbin-Watson:                   2.023\n",
      "Prob(Omnibus):                  0.000   Jarque-Bera (JB):             4928.522\n",
      "Skew:                           0.506   Prob(JB):                         0.00\n",
      "Kurtosis:                      13.043   Cond. No.                         248.\n",
      "==============================================================================\n",
      "\n",
      "Notes:\n",
      "[1] Standard Errors assume that the covariance matrix of the errors is correctly specified.\n"
     ]
    }
   ],
   "source": [
    "import statsmodels.api as sm\n",
    "X_train_rfe = sm.add_constant(X_train_rfe)\n",
    "lm = sm.OLS(y_train, X_train_rfe).fit()\n",
    "print(lm.summary())"
   ]
  },
  {
   "cell_type": "code",
   "execution_count": 54,
   "id": "cee1403f-cc18-4829-a2da-696593272f4f",
   "metadata": {},
   "outputs": [
    {
     "name": "stdout",
     "output_type": "stream",
     "text": [
      "                Features      VIF\n",
      "0                  const  2019.68\n",
      "32           BsmtQual_Np    36.66\n",
      "22      RoofMatl_CompShg    31.48\n",
      "35       BsmtFinType2_Np    30.51\n",
      "26      RoofMatl_Tar&Grv    16.28\n",
      "33           BsmtQual_TA     8.56\n",
      "6            TotalBsmtSF     8.37\n",
      "7               1stFlrSF     7.72\n",
      "27      RoofMatl_WdShake     7.67\n",
      "31           BsmtQual_Gd     5.77\n",
      "28      RoofMatl_WdShngl     5.35\n",
      "11          TotRmsAbvGrd     5.09\n",
      "8               2ndFlrSF     4.09\n",
      "2            OverallQual     3.42\n",
      "4              YearBuilt     3.13\n",
      "21        RoofStyle_Shed     3.06\n",
      "24        RoofMatl_Metal     2.75\n",
      "23      RoofMatl_Membran     2.72\n",
      "20       Condition2_RRAe     2.59\n",
      "25         RoofMatl_Roll     2.55\n",
      "13         LandSlope_Sev     2.45\n",
      "9           BedroomAbvGr     2.40\n",
      "30           BsmtQual_Fa     2.14\n",
      "1                LotArea     1.95\n",
      "5             BsmtFinSF1     1.64\n",
      "16  Neighborhood_NridgHt     1.57\n",
      "34           BsmtCond_Po     1.43\n",
      "10          KitchenAbvGr     1.39\n",
      "3            OverallCond     1.36\n",
      "37         GarageQual_Po     1.27\n",
      "15  Neighborhood_NoRidge     1.26\n",
      "12              PoolArea     1.24\n",
      "17  Neighborhood_StoneBr     1.14\n",
      "36        Functional_Sev     1.13\n",
      "14  Neighborhood_Crawfor     1.12\n",
      "19       Condition2_PosN     1.08\n",
      "18       Condition2_PosA     1.05\n",
      "29       Foundation_Wood     1.01\n",
      "38          SaleType_Con     1.01\n"
     ]
    }
   ],
   "source": [
    "# From summary of model we see, all selected vars are significant\n",
    "# Lets check VIF as well if there are any correlated variables still left\n",
    "from statsmodels.stats.outliers_influence import variance_inflation_factor\n",
    "\n",
    "def print_vif(X_train):\n",
    "    vif = pd.DataFrame()\n",
    "    vif[\"Features\"] = X_train.columns\n",
    "    vif[\"VIF\"] = [variance_inflation_factor(X_train.values, i) for i in range(X_train.shape[1])]\n",
    "    vif[\"VIF\"] = round(vif[\"VIF\"], 2)\n",
    "    vif = vif.sort_values(by=\"VIF\", ascending=False)\n",
    "    print(vif)\n",
    "    \n",
    "print_vif(X_train_rfe)"
   ]
  },
  {
   "cell_type": "markdown",
   "id": "4ebce00e-e8ae-418e-9849-7efbbbf74c9a",
   "metadata": {},
   "source": [
    "#### Residual Analysis to validate Linear Regression"
   ]
  },
  {
   "cell_type": "code",
   "execution_count": 55,
   "id": "7ae7cb33-3ce7-4a4d-891d-a7061c160660",
   "metadata": {},
   "outputs": [
    {
     "name": "stderr",
     "output_type": "stream",
     "text": [
      "C:\\Python\\lib\\site-packages\\seaborn\\distributions.py:2619: FutureWarning: `distplot` is a deprecated function and will be removed in a future version. Please adapt your code to use either `displot` (a figure-level function with similar flexibility) or `histplot` (an axes-level function for histograms).\n",
      "  warnings.warn(msg, FutureWarning)\n"
     ]
    },
    {
     "data": {
      "text/plain": [
       "<AxesSubplot:ylabel='Density'>"
      ]
     },
     "execution_count": 55,
     "metadata": {},
     "output_type": "execute_result"
    },
    {
     "data": {
      "image/png": "[encoded data removed]",
      "text/plain": [
       "<Figure size 432x288 with 1 Axes>"
      ]
     },
     "metadata": {
      "needs_background": "light"
     },
     "output_type": "display_data"
    }
   ],
   "source": [
    "y_train_pred = lm.predict(X_train_rfe)\n",
    "res = y_train - y_train_pred\n",
    "sns.distplot(res)"
   ]
  },
  {
   "cell_type": "markdown",
   "id": "3bb68f88-03c5-45d5-baad-bafd318b78fc",
   "metadata": {},
   "source": [
    "#### Satisifies Normal distribution of Residuals"
   ]
  },
  {
   "cell_type": "code",
   "execution_count": 56,
   "id": "53de6fb0-55c6-4684-b92e-c22757407d13",
   "metadata": {},
   "outputs": [
    {
     "data": {
      "text/plain": [
       "<matplotlib.collections.PathCollection at 0x1e719be91e0>"
      ]
     },
     "execution_count": 56,
     "metadata": {},
     "output_type": "execute_result"
    },
    {
     "data": {
      "image/png": "[encoded data removed]",
      "text/plain": [
       "<Figure size 432x288 with 1 Axes>"
      ]
     },
     "metadata": {
      "needs_background": "light"
     },
     "output_type": "display_data"
    }
   ],
   "source": [
    "plt.scatter(y_train_pred, y_train)"
   ]
  },
  {
   "cell_type": "markdown",
   "id": "1330c538-3147-4081-ac21-47a580aebe30",
   "metadata": {},
   "source": [
    "#### Satisfies homoscedasticity or constant variance from above scatter plot"
   ]
  },
  {
   "cell_type": "code",
   "execution_count": 57,
   "id": "48f070b0-d7ad-4580-b86b-a429f1a7c674",
   "metadata": {},
   "outputs": [
    {
     "data": {
      "text/plain": [
       "<matplotlib.collections.PathCollection at 0x1e719bebeb0>"
      ]
     },
     "execution_count": 57,
     "metadata": {},
     "output_type": "execute_result"
    },
    {
     "data": {
      "image/png": "[encoded data removed]",
      "text/plain": [
       "<Figure size 432x288 with 1 Axes>"
      ]
     },
     "metadata": {
      "needs_background": "light"
     },
     "output_type": "display_data"
    }
   ],
   "source": [
    "plt.scatter(res, y_train)"
   ]
  },
  {
   "cell_type": "markdown",
   "id": "88d23a37-5bc0-4693-bae0-cb61f0127615",
   "metadata": {},
   "source": [
    "#### From this scatter plot we can see that the error terms are independent of each other"
   ]
  },
  {
   "cell_type": "code",
   "execution_count": 58,
   "id": "8786571b-e2fd-49ba-a412-90350ae183ca",
   "metadata": {},
   "outputs": [],
   "source": [
    "# Let's import all the necessary libraries\n",
    "import numpy as np\n",
    "import pandas as pd\n",
    "import matplotlib.pyplot as plt\n",
    "import seaborn as sns\n",
    "\n",
    "from sklearn.preprocessing import PolynomialFeatures, MinMaxScaler\n",
    "from sklearn.linear_model import LinearRegression, Ridge, Lasso\n",
    "from sklearn.metrics import mean_squared_error, r2_score\n",
    "\n",
    "import warnings\n",
    "warnings.filterwarnings('ignore')"
   ]
  },
  {
   "cell_type": "markdown",
   "id": "3b0c8255-3ffb-405f-b109-ad0fa92b2994",
   "metadata": {},
   "source": [
    "#### Ridge Regression"
   ]
  },
  {
   "cell_type": "code",
   "execution_count": 59,
   "id": "68893415-5519-4f1d-9d84-62c9c8ff0b59",
   "metadata": {},
   "outputs": [
    {
     "name": "stdout",
     "output_type": "stream",
     "text": [
      "with lambda 0 r2 score = 0.8837077395424552\n",
      "with lambda 0.001 r2 score = 0.8874218919494045\n",
      "with lambda 0.01 r2 score = 0.8869272809840733\n",
      "with lambda 0.1 r2 score = 0.8739972461902875\n",
      "with lambda 1 r2 score = 0.8445566862574762\n",
      "with lambda 10 r2 score = 0.8075638164620544\n",
      "with lambda 100 r2 score = 0.577270678646473\n",
      "with lambda 1000 r2 score = 0.18628597422845616\n"
     ]
    }
   ],
   "source": [
    "lambdas = [0, 0.001, 0.01, 0.1, 1, 10, 100, 1000]\n",
    "\n",
    "for i in lambdas:\n",
    "    ridgereg = Ridge(alpha = i)\n",
    "    ridgereg.fit(X_train_rfe, y_train)\n",
    "    y_pred = ridgereg.predict(X_train_rfe)\n",
    "    print(\"with lambda \" + str(i) + \" r2 score = \" + str(r2_score(y_train, y_pred))) \n"
   ]
  },
  {
   "cell_type": "code",
   "execution_count": 60,
   "id": "470d3baf-7f8b-40a3-804c-a150735c88ad",
   "metadata": {},
   "outputs": [
    {
     "name": "stdout",
     "output_type": "stream",
     "text": [
      "with lambda 0.001 r2 score = 0.8874218919494045\n",
      "with lambda 0.002 r2 score = 0.8874041598657355\n",
      "with lambda 0.003 r2 score = 0.8873755729194092\n",
      "with lambda 0.004 r2 score = 0.8873368622769071\n",
      "with lambda 0.005 r2 score = 0.8872887108286355\n",
      "with lambda 0.006 r2 score = 0.887231756684143\n",
      "with lambda 0.007 r2 score = 0.8871665963859781\n",
      "with lambda 0.008 r2 score = 0.8870937878672726\n",
      "with lambda 0.009 r2 score = 0.887013853175676\n"
     ]
    }
   ],
   "source": [
    "lambda_list = [0.001, 0.002, 0.003, 0.004, 0.005, 0.006, 0.007, 0.008, 0.009]\n",
    "for i in lambda_list:\n",
    "    ridgereg = Ridge(alpha = i)\n",
    "    ridgereg.fit(X_train_rfe, y_train)\n",
    "    y_pred = ridgereg.predict(X_train_rfe)\n",
    "    print(\"with lambda \" + str(i) + \" r2 score = \" + str(r2_score(y_train, y_pred))) "
   ]
  },
  {
   "cell_type": "code",
   "execution_count": 61,
   "id": "ccbd9dfa-bb28-4a9f-a8f6-506b016a78ee",
   "metadata": {},
   "outputs": [
    {
     "data": {
      "text/plain": [
       "1e-06"
      ]
     },
     "execution_count": 61,
     "metadata": {},
     "output_type": "execute_result"
    }
   ],
   "source": [
    "0.001 * 0.001"
   ]
  },
  {
   "cell_type": "code",
   "execution_count": 62,
   "id": "1f11d56b-684d-4494-b32d-c8722e89cc82",
   "metadata": {},
   "outputs": [
    {
     "name": "stdout",
     "output_type": "stream",
     "text": [
      "with lambda 1e-06 r2 score = 0.8874279859172068\n"
     ]
    }
   ],
   "source": [
    "lambda_list = [0.001 * 0.001]\n",
    "for i in lambda_list:\n",
    "    ridgereg = Ridge(alpha = i)\n",
    "    ridgereg.fit(X_train_rfe, y_train)\n",
    "    y_pred = ridgereg.predict(X_train_rfe)\n",
    "    print(\"with lambda \" + str(i) + \" r2 score = \" + str(r2_score(y_train, y_pred))) "
   ]
  },
  {
   "cell_type": "code",
   "execution_count": 63,
   "id": "b3070717-9b08-42f2-b963-19be4800cade",
   "metadata": {},
   "outputs": [
    {
     "name": "stdout",
     "output_type": "stream",
     "text": [
      "with lambda 0.001 r2 score = 0.8874218919494045\n",
      "                 feature      coef  abs_coef\n",
      "23      RoofMatl_Membran  1.088283  1.088283\n",
      "24        RoofMatl_Metal  1.071875  1.071875\n",
      "26      RoofMatl_Tar&Grv  0.991430  0.991430\n",
      "28      RoofMatl_WdShngl  0.983055  0.983055\n",
      "22      RoofMatl_CompShg  0.981674  0.981674\n",
      "25         RoofMatl_Roll  0.971423  0.971423\n",
      "27      RoofMatl_WdShake  0.960010  0.960010\n",
      "6            TotalBsmtSF  0.343519  0.343519\n",
      "19       Condition2_PosN -0.291850  0.291850\n",
      "7               1stFlrSF  0.267732  0.267732\n",
      "1                LotArea  0.255889  0.255889\n",
      "8               2ndFlrSF  0.169296  0.169296\n",
      "20       Condition2_RRAe -0.167097  0.167097\n",
      "5             BsmtFinSF1  0.151714  0.151714\n",
      "2            OverallQual  0.138893  0.138893\n",
      "36        Functional_Sev -0.126333  0.126333\n",
      "21        RoofStyle_Shed  0.111189  0.111189\n",
      "10          KitchenAbvGr -0.105718  0.105718\n",
      "4              YearBuilt  0.103873  0.103873\n",
      "3            OverallCond  0.088286  0.088286\n",
      "9           BedroomAbvGr -0.086835  0.086835\n",
      "35       BsmtFinType2_Np -0.074791  0.074791\n",
      "34           BsmtCond_Po  0.071947  0.071947\n",
      "32           BsmtQual_Np  0.071395  0.071395\n",
      "11          TotRmsAbvGrd  0.067091  0.067091\n",
      "12              PoolArea  0.064667  0.064667\n",
      "18       Condition2_PosA  0.063052  0.063052\n",
      "38          SaleType_Con  0.060797  0.060797\n",
      "13         LandSlope_Sev -0.059805  0.059805\n",
      "17  Neighborhood_StoneBr  0.058397  0.058397\n",
      "31           BsmtQual_Gd -0.057455  0.057455\n",
      "15  Neighborhood_NoRidge  0.056803  0.056803\n",
      "33           BsmtQual_TA -0.056546  0.056546\n",
      "29       Foundation_Wood -0.050979  0.050979\n",
      "30           BsmtQual_Fa -0.045712  0.045712\n",
      "37         GarageQual_Po -0.045464  0.045464\n",
      "16  Neighborhood_NridgHt  0.043275  0.043275\n",
      "14  Neighborhood_Crawfor  0.039252  0.039252\n",
      "0                  const  0.000000  0.000000\n"
     ]
    }
   ],
   "source": [
    "lambda_final = 0.001\n",
    "ridgereg = Ridge(alpha = lambda_final)\n",
    "ridgereg.fit(X_train_rfe, y_train)\n",
    "y_pred = ridgereg.predict(X_train_rfe)\n",
    "print(\"with lambda \" + str(lambda_final) + \" r2 score = \" + str(r2_score(y_train, y_pred)))\n",
    "ridge_data = { \"feature\": X_train_rfe.columns, \"coef\": ridgereg.coef_, \"abs_coef\": abs(ridgereg.coef_)}\n",
    "print(pd.DataFrame(ridge_data).sort_values(by=\"abs_coef\", ascending=False))"
   ]
  },
  {
   "cell_type": "code",
   "execution_count": 64,
   "id": "72b5ee7f-5712-4aa7-a022-a630665dd774",
   "metadata": {},
   "outputs": [
    {
     "name": "stdout",
     "output_type": "stream",
     "text": [
      "with lambda 1e-06 r2 score = 0.8874279859172068\n",
      "                 feature      coef  abs_coef\n",
      "23      RoofMatl_Membran  1.100949  1.100949\n",
      "24        RoofMatl_Metal  1.084601  1.084601\n",
      "26      RoofMatl_Tar&Grv  1.002617  1.002617\n",
      "28      RoofMatl_WdShngl  0.994054  0.994054\n",
      "22      RoofMatl_CompShg  0.992665  0.992665\n",
      "25         RoofMatl_Roll  0.983377  0.983377\n",
      "27      RoofMatl_WdShake  0.971395  0.971395\n",
      "6            TotalBsmtSF  0.346867  0.346867\n",
      "19       Condition2_PosN -0.292696  0.292696\n",
      "7               1stFlrSF  0.267153  0.267153\n",
      "1                LotArea  0.256738  0.256738\n",
      "8               2ndFlrSF  0.169862  0.169862\n",
      "20       Condition2_RRAe -0.167813  0.167813\n",
      "5             BsmtFinSF1  0.152293  0.152293\n",
      "2            OverallQual  0.138515  0.138515\n",
      "36        Functional_Sev -0.126730  0.126730\n",
      "21        RoofStyle_Shed  0.111496  0.111496\n",
      "10          KitchenAbvGr -0.105929  0.105929\n",
      "4              YearBuilt  0.103872  0.103872\n",
      "3            OverallCond  0.088410  0.088410\n",
      "9           BedroomAbvGr -0.087193  0.087193\n",
      "35       BsmtFinType2_Np -0.075816  0.075816\n",
      "32           BsmtQual_Np  0.073099  0.073099\n",
      "34           BsmtCond_Po  0.072411  0.072411\n",
      "11          TotRmsAbvGrd  0.066878  0.066878\n",
      "12              PoolArea  0.066096  0.066096\n",
      "18       Condition2_PosA  0.062974  0.062974\n",
      "38          SaleType_Con  0.060726  0.060726\n",
      "13         LandSlope_Sev -0.060585  0.060585\n",
      "17  Neighborhood_StoneBr  0.058282  0.058282\n",
      "31           BsmtQual_Gd -0.057418  0.057418\n",
      "15  Neighborhood_NoRidge  0.056505  0.056505\n",
      "33           BsmtQual_TA -0.056468  0.056468\n",
      "29       Foundation_Wood -0.050925  0.050925\n",
      "37         GarageQual_Po -0.045629  0.045629\n",
      "30           BsmtQual_Fa -0.045548  0.045548\n",
      "16  Neighborhood_NridgHt  0.043173  0.043173\n",
      "14  Neighborhood_Crawfor  0.039227  0.039227\n",
      "0                  const  0.000000  0.000000\n"
     ]
    }
   ],
   "source": [
    "lambda_final = 0.001 * 0.001 \n",
    "ridgereg = Ridge(alpha = lambda_final)\n",
    "ridgereg.fit(X_train_rfe, y_train)\n",
    "y_pred = ridgereg.predict(X_train_rfe)\n",
    "print(\"with lambda \" + str(lambda_final) + \" r2 score = \" + str(r2_score(y_train, y_pred)))\n",
    "ridge_data = { \"feature\": X_train_rfe.columns, \"coef\": ridgereg.coef_, \"abs_coef\": abs(ridgereg.coef_)}\n",
    "print(pd.DataFrame(ridge_data).sort_values(by=\"abs_coef\", ascending=False))"
   ]
  },
  {
   "cell_type": "markdown",
   "id": "d2f2e92d-7357-4b75-b201-eb19eefed8cb",
   "metadata": {},
   "source": [
    "#### Lasso Regression"
   ]
  },
  {
   "cell_type": "code",
   "execution_count": 65,
   "id": "d3ed5892-9dc2-457c-93f4-cd607d73e8db",
   "metadata": {},
   "outputs": [
    {
     "name": "stdout",
     "output_type": "stream",
     "text": [
      "with lambda 0 r2 score = 0.8874279859234429\n",
      "with lambda 0.001 r2 score = 0.7698614755766873\n",
      "with lambda 0.01 r2 score = 0.26435874639237944\n",
      "with lambda 0.1 r2 score = 0.0\n",
      "with lambda 1 r2 score = 0.0\n",
      "with lambda 10 r2 score = 0.0\n",
      "with lambda 100 r2 score = 0.0\n",
      "with lambda 1000 r2 score = 0.0\n"
     ]
    }
   ],
   "source": [
    "lambdas = [0, 0.001, 0.01, 0.1, 1, 10, 100, 1000]\n",
    "\n",
    "\n",
    "for i in lambdas:\n",
    "    lassoreg = Lasso(alpha = i) \n",
    "    lassoreg.fit(X_train_rfe, y_train)\n",
    "    y_pred = lassoreg.predict(X_train_rfe)\n",
    "    print(\"with lambda \" + str(i) + \" r2 score = \" + str(r2_score(y_train, y_pred))) \n"
   ]
  },
  {
   "cell_type": "code",
   "execution_count": 66,
   "id": "e86ceb5e-80ee-4b08-b903-544cc4f45da4",
   "metadata": {},
   "outputs": [
    {
     "name": "stdout",
     "output_type": "stream",
     "text": [
      "with lambda 1e-05 r2 score = 0.8862645807375794\n",
      "with lambda 0.0001 r2 score = 0.8367212132410713\n"
     ]
    }
   ],
   "source": [
    "lambdas = [0.00001, 0.0001]\n",
    "\n",
    "for i in lambdas:\n",
    "    lassoreg = Lasso(alpha = i) \n",
    "    lassoreg.fit(X_train_rfe, y_train)\n",
    "    y_pred = lassoreg.predict(X_train_rfe)\n",
    "    print(\"with lambda \" + str(i) + \" r2 score = \" + str(r2_score(y_train, y_pred))) "
   ]
  },
  {
   "cell_type": "code",
   "execution_count": 67,
   "id": "89832fd4-d3ad-428b-9a1b-9e4bd0af8d84",
   "metadata": {},
   "outputs": [
    {
     "name": "stdout",
     "output_type": "stream",
     "text": [
      "with lambda 1.0000000000000002e-10 r2 score = 0.8874279859233256\n"
     ]
    }
   ],
   "source": [
    "lambda_list = [0.00001 * 0.00001]\n",
    "for i in lambda_list:\n",
    "    lassoreg = Lasso(alpha = i) \n",
    "    lassoreg.fit(X_train_rfe, y_train)\n",
    "    y_pred = lassoreg.predict(X_train_rfe)\n",
    "    print(\"with lambda \" + str(i) + \" r2 score = \" + str(r2_score(y_train, y_pred))) "
   ]
  },
  {
   "cell_type": "code",
   "execution_count": 68,
   "id": "9a8a5721-408e-4441-b2f9-744479f80e85",
   "metadata": {},
   "outputs": [
    {
     "name": "stdout",
     "output_type": "stream",
     "text": [
      "with lambda 1e-05 r2 score = 0.8862645807375794\n",
      "                 feature      coef  abs_coef\n",
      "23      RoofMatl_Membran  0.938329  0.938329\n",
      "24        RoofMatl_Metal  0.919885  0.919885\n",
      "26      RoofMatl_Tar&Grv  0.860850  0.860850\n",
      "28      RoofMatl_WdShngl  0.857710  0.857710\n",
      "22      RoofMatl_CompShg  0.855751  0.855751\n",
      "27      RoofMatl_WdShake  0.835961  0.835961\n",
      "25         RoofMatl_Roll  0.835250  0.835250\n",
      "6            TotalBsmtSF  0.297630  0.297630\n",
      "7               1stFlrSF  0.278922  0.278922\n",
      "19       Condition2_PosN -0.277049  0.277049\n",
      "1                LotArea  0.234363  0.234363\n",
      "8               2ndFlrSF  0.162531  0.162531\n",
      "5             BsmtFinSF1  0.145970  0.145970\n",
      "2            OverallQual  0.145130  0.145130\n",
      "20       Condition2_RRAe -0.114460  0.114460\n",
      "36        Functional_Sev -0.109176  0.109176\n",
      "4              YearBuilt  0.103211  0.103211\n",
      "10          KitchenAbvGr -0.101933  0.101933\n",
      "3            OverallCond  0.085537  0.085537\n",
      "9           BedroomAbvGr -0.080330  0.080330\n",
      "21        RoofStyle_Shed  0.074055  0.074055\n",
      "11          TotRmsAbvGrd  0.066947  0.066947\n",
      "15  Neighborhood_NoRidge  0.060164  0.060164\n",
      "17  Neighborhood_StoneBr  0.058918  0.058918\n",
      "31           BsmtQual_Gd -0.058159  0.058159\n",
      "33           BsmtQual_TA -0.057797  0.057797\n",
      "38          SaleType_Con  0.056235  0.056235\n",
      "18       Condition2_PosA  0.053252  0.053252\n",
      "34           BsmtCond_Po  0.052222  0.052222\n",
      "30           BsmtQual_Fa -0.047549  0.047549\n",
      "12              PoolArea  0.046355  0.046355\n",
      "29       Foundation_Wood -0.045995  0.045995\n",
      "16  Neighborhood_NridgHt  0.043731  0.043731\n",
      "13         LandSlope_Sev -0.042431  0.042431\n",
      "35       BsmtFinType2_Np -0.039091  0.039091\n",
      "14  Neighborhood_Crawfor  0.039002  0.039002\n",
      "37         GarageQual_Po -0.035276  0.035276\n",
      "32           BsmtQual_Np  0.026019  0.026019\n",
      "0                  const  0.000000  0.000000\n"
     ]
    }
   ],
   "source": [
    "lambda_final = 0.00001\n",
    "lassoreg = Lasso(alpha = lambda_final)\n",
    "lassoreg.fit(X_train_rfe, y_train)\n",
    "y_pred = lassoreg.predict(X_train_rfe)\n",
    "print(\"with lambda \" + str(lambda_final) + \" r2 score = \" + str(r2_score(y_train, y_pred)))\n",
    "lasso_data = { \"feature\": X_train_rfe.columns, \"coef\": lassoreg.coef_, \"abs_coef\": abs(lassoreg.coef_)}\n",
    "print(pd.DataFrame(lasso_data).sort_values(by=\"abs_coef\", ascending=False))"
   ]
  },
  {
   "cell_type": "code",
   "execution_count": 69,
   "id": "133903e3-dc3c-49d9-a5fa-24013ae2c633",
   "metadata": {},
   "outputs": [
    {
     "name": "stdout",
     "output_type": "stream",
     "text": [
      "with lambda 1.0000000000000002e-10 r2 score = 0.8874279859233256\n",
      "                 feature      coef  abs_coef\n",
      "23      RoofMatl_Membran  1.100960  1.100960\n",
      "24        RoofMatl_Metal  1.084612  1.084612\n",
      "26      RoofMatl_Tar&Grv  1.002626  1.002626\n",
      "28      RoofMatl_WdShngl  0.994064  0.994064\n",
      "22      RoofMatl_CompShg  0.992675  0.992675\n",
      "25         RoofMatl_Roll  0.983387  0.983387\n",
      "27      RoofMatl_WdShake  0.971405  0.971405\n",
      "6            TotalBsmtSF  0.346870  0.346870\n",
      "19       Condition2_PosN -0.292697  0.292697\n",
      "7               1stFlrSF  0.267152  0.267152\n",
      "1                LotArea  0.256739  0.256739\n",
      "8               2ndFlrSF  0.169862  0.169862\n",
      "20       Condition2_RRAe -0.167813  0.167813\n",
      "5             BsmtFinSF1  0.152294  0.152294\n",
      "2            OverallQual  0.138514  0.138514\n",
      "36        Functional_Sev -0.126730  0.126730\n",
      "21        RoofStyle_Shed  0.111496  0.111496\n",
      "10          KitchenAbvGr -0.105929  0.105929\n",
      "4              YearBuilt  0.103872  0.103872\n",
      "3            OverallCond  0.088410  0.088410\n",
      "9           BedroomAbvGr -0.087193  0.087193\n",
      "35       BsmtFinType2_Np -0.075817  0.075817\n",
      "32           BsmtQual_Np  0.073100  0.073100\n",
      "34           BsmtCond_Po  0.072411  0.072411\n",
      "11          TotRmsAbvGrd  0.066877  0.066877\n",
      "12              PoolArea  0.066097  0.066097\n",
      "18       Condition2_PosA  0.062974  0.062974\n",
      "38          SaleType_Con  0.060726  0.060726\n",
      "13         LandSlope_Sev -0.060586  0.060586\n",
      "17  Neighborhood_StoneBr  0.058282  0.058282\n",
      "31           BsmtQual_Gd -0.057418  0.057418\n",
      "15  Neighborhood_NoRidge  0.056505  0.056505\n",
      "33           BsmtQual_TA -0.056467  0.056467\n",
      "29       Foundation_Wood -0.050925  0.050925\n",
      "37         GarageQual_Po -0.045629  0.045629\n",
      "30           BsmtQual_Fa -0.045548  0.045548\n",
      "16  Neighborhood_NridgHt  0.043173  0.043173\n",
      "14  Neighborhood_Crawfor  0.039227  0.039227\n",
      "0                  const  0.000000  0.000000\n"
     ]
    }
   ],
   "source": [
    "lambda_final = 0.00001 * 0.00001\n",
    "lassoreg = Lasso(alpha = lambda_final)\n",
    "lassoreg.fit(X_train_rfe, y_train)\n",
    "y_pred = lassoreg.predict(X_train_rfe)\n",
    "print(\"with lambda \" + str(lambda_final) + \" r2 score = \" + str(r2_score(y_train, y_pred)))\n",
    "lasso_data = { \"feature\": X_train_rfe.columns, \"coef\": lassoreg.coef_, \"abs_coef\": abs(lassoreg.coef_)}\n",
    "print(pd.DataFrame(lasso_data).sort_values(by=\"abs_coef\", ascending=False))"
   ]
  },
  {
   "cell_type": "code",
   "execution_count": null,
   "id": "e0054970-8f1c-4541-a301-4a9d499223ae",
   "metadata": {},
   "outputs": [],
   "source": []
  }
 ],
 "metadata": {
  "kernelspec": {
   "display_name": "Python 3 (ipykernel)",
   "language": "python",
   "name": "python3"
  },
  "language_info": {
   "codemirror_mode": {
    "name": "ipython",
    "version": 3
   },
   "file_extension": ".py",
   "mimetype": "text/x-python",
   "name": "python",
   "nbconvert_exporter": "python",
   "pygments_lexer": "ipython3",
   "version": "3.10.0"
  }
 },
 "nbformat": 4,
 "nbformat_minor": 5
}
